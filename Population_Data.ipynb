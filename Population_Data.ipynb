{
 "cells": [
  {
   "cell_type": "markdown",
   "id": "d9966760-5169-4137-86ee-e6e9f20fca49",
   "metadata": {},
   "source": [
    "## Population Data"
   ]
  },
  {
   "cell_type": "code",
   "execution_count": 1,
   "id": "643edf0f-5d17-4962-8ae1-1ac642f934be",
   "metadata": {},
   "outputs": [],
   "source": [
    "import pandas as pd\n",
    "import matplotlib.pyplot as plt\n",
    "import numpy as np\n",
    "import rasterio\n",
    "from rasterio.mask import mask\n",
    "from rasterstats import zonal_stats\n",
    "import geopandas as gpd\n",
    "from pathlib import Path"
   ]
  },
  {
   "cell_type": "code",
   "execution_count": 2,
   "id": "e9c70af2-2a4f-45e1-a453-1fac3d28bc8d",
   "metadata": {},
   "outputs": [],
   "source": [
    "districts = gpd.read_file('./Data/district.shp')\n",
    "\n",
    "# set CRS\n",
    "districts = districts.set_crs(epsg=4326)"
   ]
  },
  {
   "cell_type": "markdown",
   "id": "0f581a2f-385e-47cf-b45c-62c411b96f91",
   "metadata": {},
   "source": [
    "## Population growth"
   ]
  },
  {
   "cell_type": "code",
   "execution_count": 11,
   "id": "a803f551-88ea-403c-9ec9-76bcbb62fe76",
   "metadata": {},
   "outputs": [
    {
     "ename": "KeyboardInterrupt",
     "evalue": "",
     "output_type": "error",
     "traceback": [
      "\u001b[0;31m---------------------------------------------------------------------------\u001b[0m",
      "\u001b[0;31mKeyboardInterrupt\u001b[0m                         Traceback (most recent call last)",
      "Cell \u001b[0;32mIn[11], line 14\u001b[0m\n\u001b[1;32m     12\u001b[0m     nodata_val \u001b[38;5;241m=\u001b[39m src\u001b[38;5;241m.\u001b[39mnodata\n\u001b[1;32m     13\u001b[0m \u001b[38;5;66;03m# compute zonal stats\u001b[39;00m\n\u001b[0;32m---> 14\u001b[0m stats \u001b[38;5;241m=\u001b[39m \u001b[43mzonal_stats\u001b[49m\u001b[43m(\u001b[49m\n\u001b[1;32m     15\u001b[0m \u001b[43m    \u001b[49m\u001b[43mvectors\u001b[49m\u001b[38;5;241;43m=\u001b[39;49m\u001b[43mdistricts\u001b[49m\u001b[43m,\u001b[49m\n\u001b[1;32m     16\u001b[0m \u001b[43m    \u001b[49m\u001b[43mraster\u001b[49m\u001b[38;5;241;43m=\u001b[39;49m\u001b[43mraster_path\u001b[49m\u001b[43m,\u001b[49m\n\u001b[1;32m     17\u001b[0m \u001b[43m    \u001b[49m\u001b[43mstats\u001b[49m\u001b[38;5;241;43m=\u001b[39;49m\u001b[43m[\u001b[49m\u001b[38;5;124;43m'\u001b[39;49m\u001b[38;5;124;43msum\u001b[39;49m\u001b[38;5;124;43m'\u001b[39;49m\u001b[43m]\u001b[49m\u001b[43m,\u001b[49m\n\u001b[1;32m     18\u001b[0m \u001b[43m    \u001b[49m\u001b[43mnodata\u001b[49m\u001b[38;5;241;43m=\u001b[39;49m\u001b[43mnodata_val\u001b[49m\u001b[43m,\u001b[49m\n\u001b[1;32m     19\u001b[0m \u001b[43m    \u001b[49m\u001b[43mgeojson_out\u001b[49m\u001b[38;5;241;43m=\u001b[39;49m\u001b[38;5;28;43;01mFalse\u001b[39;49;00m\n\u001b[1;32m     20\u001b[0m \u001b[43m\u001b[49m\u001b[43m)\u001b[49m\n\u001b[1;32m     21\u001b[0m \u001b[38;5;66;03m# add to dataframe\u001b[39;00m\n\u001b[1;32m     22\u001b[0m pop_annual[\u001b[38;5;124mf\u001b[39m\u001b[38;5;124m'\u001b[39m\u001b[38;5;124mpop_\u001b[39m\u001b[38;5;132;01m{\u001b[39;00myear\u001b[38;5;132;01m}\u001b[39;00m\u001b[38;5;124m'\u001b[39m] \u001b[38;5;241m=\u001b[39m [entry[\u001b[38;5;124m'\u001b[39m\u001b[38;5;124msum\u001b[39m\u001b[38;5;124m'\u001b[39m] \u001b[38;5;28;01mfor\u001b[39;00m entry \u001b[38;5;129;01min\u001b[39;00m stats]\n",
      "File \u001b[0;32m/mnt/shared/moduleapps/EarthSci/Python-3.9.15-Mamba/lib/python3.9/site-packages/rasterstats/main.py:36\u001b[0m, in \u001b[0;36mzonal_stats\u001b[0;34m(*args, **kwargs)\u001b[0m\n\u001b[1;32m     28\u001b[0m \u001b[38;5;28;01mdef\u001b[39;00m \u001b[38;5;21mzonal_stats\u001b[39m(\u001b[38;5;241m*\u001b[39margs, \u001b[38;5;241m*\u001b[39m\u001b[38;5;241m*\u001b[39mkwargs):\n\u001b[1;32m     29\u001b[0m \u001b[38;5;250m    \u001b[39m\u001b[38;5;124;03m\"\"\"The primary zonal statistics entry point.\u001b[39;00m\n\u001b[1;32m     30\u001b[0m \n\u001b[1;32m     31\u001b[0m \u001b[38;5;124;03m    All arguments are passed directly to ``gen_zonal_stats``.\u001b[39;00m\n\u001b[0;32m   (...)\u001b[0m\n\u001b[1;32m     34\u001b[0m \u001b[38;5;124;03m    The only difference is that ``zonal_stats`` will\u001b[39;00m\n\u001b[1;32m     35\u001b[0m \u001b[38;5;124;03m    return a list rather than a generator.\"\"\"\u001b[39;00m\n\u001b[0;32m---> 36\u001b[0m     \u001b[38;5;28;01mreturn\u001b[39;00m \u001b[38;5;28;43mlist\u001b[39;49m\u001b[43m(\u001b[49m\u001b[43mgen_zonal_stats\u001b[49m\u001b[43m(\u001b[49m\u001b[38;5;241;43m*\u001b[39;49m\u001b[43margs\u001b[49m\u001b[43m,\u001b[49m\u001b[43m \u001b[49m\u001b[38;5;241;43m*\u001b[39;49m\u001b[38;5;241;43m*\u001b[39;49m\u001b[43mkwargs\u001b[49m\u001b[43m)\u001b[49m\u001b[43m)\u001b[49m\n",
      "File \u001b[0;32m/mnt/shared/moduleapps/EarthSci/Python-3.9.15-Mamba/lib/python3.9/site-packages/rasterstats/main.py:162\u001b[0m, in \u001b[0;36mgen_zonal_stats\u001b[0;34m(vectors, raster, layer, band, nodata, affine, stats, all_touched, categorical, category_map, add_stats, zone_func, raster_out, prefix, geojson_out, boundless, **kwargs)\u001b[0m\n\u001b[1;32m    159\u001b[0m     band \u001b[38;5;241m=\u001b[39m band_num\n\u001b[1;32m    161\u001b[0m \u001b[38;5;28;01mwith\u001b[39;00m Raster(raster, affine, nodata, band) \u001b[38;5;28;01mas\u001b[39;00m rast:\n\u001b[0;32m--> 162\u001b[0m     features_iter \u001b[38;5;241m=\u001b[39m \u001b[43mread_features\u001b[49m\u001b[43m(\u001b[49m\u001b[43mvectors\u001b[49m\u001b[43m,\u001b[49m\u001b[43m \u001b[49m\u001b[43mlayer\u001b[49m\u001b[43m)\u001b[49m\n\u001b[1;32m    163\u001b[0m     \u001b[38;5;28;01mfor\u001b[39;00m _, feat \u001b[38;5;129;01min\u001b[39;00m \u001b[38;5;28menumerate\u001b[39m(features_iter):\n\u001b[1;32m    164\u001b[0m         geom \u001b[38;5;241m=\u001b[39m shape(feat[\u001b[38;5;124m\"\u001b[39m\u001b[38;5;124mgeometry\u001b[39m\u001b[38;5;124m\"\u001b[39m])\n",
      "File \u001b[0;32m/mnt/shared/moduleapps/EarthSci/Python-3.9.15-Mamba/lib/python3.9/site-packages/rasterstats/io.py:118\u001b[0m, in \u001b[0;36mread_features\u001b[0;34m(obj, layer)\u001b[0m\n\u001b[1;32m    115\u001b[0m \u001b[38;5;28;01melif\u001b[39;00m \u001b[38;5;28misinstance\u001b[39m(obj, \u001b[38;5;28mbytes\u001b[39m):\n\u001b[1;32m    116\u001b[0m     \u001b[38;5;66;03m# Single binary object, probably a wkb\u001b[39;00m\n\u001b[1;32m    117\u001b[0m     features_iter \u001b[38;5;241m=\u001b[39m [parse_feature(obj)]\n\u001b[0;32m--> 118\u001b[0m \u001b[38;5;28;01melif\u001b[39;00m \u001b[38;5;28;43mhasattr\u001b[39;49m\u001b[43m(\u001b[49m\u001b[43mobj\u001b[49m\u001b[43m,\u001b[49m\u001b[43m \u001b[49m\u001b[38;5;124;43m\"\u001b[39;49m\u001b[38;5;124;43m__geo_interface__\u001b[39;49m\u001b[38;5;124;43m\"\u001b[39;49m\u001b[43m)\u001b[49m:\n\u001b[1;32m    119\u001b[0m     mapping \u001b[38;5;241m=\u001b[39m obj\u001b[38;5;241m.\u001b[39m__geo_interface__\n\u001b[1;32m    120\u001b[0m     \u001b[38;5;28;01mif\u001b[39;00m mapping[\u001b[38;5;124m\"\u001b[39m\u001b[38;5;124mtype\u001b[39m\u001b[38;5;124m\"\u001b[39m] \u001b[38;5;241m==\u001b[39m \u001b[38;5;124m\"\u001b[39m\u001b[38;5;124mFeatureCollection\u001b[39m\u001b[38;5;124m\"\u001b[39m:\n",
      "File \u001b[0;32m/mnt/shared/moduleapps/EarthSci/Python-3.9.15-Mamba/lib/python3.9/site-packages/geopandas/geodataframe.py:864\u001b[0m, in \u001b[0;36mGeoDataFrame.__geo_interface__\u001b[0;34m(self)\u001b[0m\n\u001b[1;32m    832\u001b[0m     \u001b[38;5;129m@property\u001b[39m\n\u001b[1;32m    833\u001b[0m     \u001b[38;5;28;01mdef\u001b[39;00m \u001b[38;5;21m__geo_interface__\u001b[39m(\u001b[38;5;28mself\u001b[39m):\n\u001b[1;32m    834\u001b[0m \u001b[38;5;250m        \u001b[39m\u001b[38;5;124;03m\"\"\"Returns a ``GeoDataFrame`` as a python feature collection.\u001b[39;00m\n\u001b[1;32m    835\u001b[0m \n\u001b[1;32m    836\u001b[0m \u001b[38;5;124;03m        Implements the `geo_interface`. The returned python data structure\u001b[39;00m\n\u001b[0;32m   (...)\u001b[0m\n\u001b[1;32m    862\u001b[0m \u001b[38;5;124;03mbox': (2.0, 1.0, 2.0, 1.0)}], 'bbox': (1.0, 1.0, 2.0, 2.0)}\u001b[39;00m\n\u001b[1;32m    863\u001b[0m \u001b[38;5;124;03m        \"\"\"\u001b[39;00m\n\u001b[0;32m--> 864\u001b[0m         \u001b[38;5;28;01mreturn\u001b[39;00m \u001b[38;5;28;43mself\u001b[39;49m\u001b[38;5;241;43m.\u001b[39;49m\u001b[43m_to_geo\u001b[49m\u001b[43m(\u001b[49m\u001b[43mna\u001b[49m\u001b[38;5;241;43m=\u001b[39;49m\u001b[38;5;124;43m\"\u001b[39;49m\u001b[38;5;124;43mnull\u001b[39;49m\u001b[38;5;124;43m\"\u001b[39;49m\u001b[43m,\u001b[49m\u001b[43m \u001b[49m\u001b[43mshow_bbox\u001b[49m\u001b[38;5;241;43m=\u001b[39;49m\u001b[38;5;28;43;01mTrue\u001b[39;49;00m\u001b[43m,\u001b[49m\u001b[43m \u001b[49m\u001b[43mdrop_id\u001b[49m\u001b[38;5;241;43m=\u001b[39;49m\u001b[38;5;28;43;01mFalse\u001b[39;49;00m\u001b[43m)\u001b[49m\n",
      "File \u001b[0;32m/mnt/shared/moduleapps/EarthSci/Python-3.9.15-Mamba/lib/python3.9/site-packages/geopandas/geodataframe.py:982\u001b[0m, in \u001b[0;36mGeoDataFrame._to_geo\u001b[0;34m(self, **kwargs)\u001b[0m\n\u001b[1;32m    974\u001b[0m \u001b[38;5;28;01mdef\u001b[39;00m \u001b[38;5;21m_to_geo\u001b[39m(\u001b[38;5;28mself\u001b[39m, \u001b[38;5;241m*\u001b[39m\u001b[38;5;241m*\u001b[39mkwargs):\n\u001b[1;32m    975\u001b[0m \u001b[38;5;250m    \u001b[39m\u001b[38;5;124;03m\"\"\"\u001b[39;00m\n\u001b[1;32m    976\u001b[0m \u001b[38;5;124;03m    Returns a python feature collection (i.e. the geointerface)\u001b[39;00m\n\u001b[1;32m    977\u001b[0m \u001b[38;5;124;03m    representation of the GeoDataFrame.\u001b[39;00m\n\u001b[1;32m    978\u001b[0m \n\u001b[1;32m    979\u001b[0m \u001b[38;5;124;03m    \"\"\"\u001b[39;00m\n\u001b[1;32m    980\u001b[0m     geo \u001b[38;5;241m=\u001b[39m {\n\u001b[1;32m    981\u001b[0m         \u001b[38;5;124m\"\u001b[39m\u001b[38;5;124mtype\u001b[39m\u001b[38;5;124m\"\u001b[39m: \u001b[38;5;124m\"\u001b[39m\u001b[38;5;124mFeatureCollection\u001b[39m\u001b[38;5;124m\"\u001b[39m,\n\u001b[0;32m--> 982\u001b[0m         \u001b[38;5;124m\"\u001b[39m\u001b[38;5;124mfeatures\u001b[39m\u001b[38;5;124m\"\u001b[39m: \u001b[38;5;28;43mlist\u001b[39;49m\u001b[43m(\u001b[49m\u001b[38;5;28;43mself\u001b[39;49m\u001b[38;5;241;43m.\u001b[39;49m\u001b[43miterfeatures\u001b[49m\u001b[43m(\u001b[49m\u001b[38;5;241;43m*\u001b[39;49m\u001b[38;5;241;43m*\u001b[39;49m\u001b[43mkwargs\u001b[49m\u001b[43m)\u001b[49m\u001b[43m)\u001b[49m,\n\u001b[1;32m    983\u001b[0m     }\n\u001b[1;32m    985\u001b[0m     \u001b[38;5;28;01mif\u001b[39;00m kwargs\u001b[38;5;241m.\u001b[39mget(\u001b[38;5;124m\"\u001b[39m\u001b[38;5;124mshow_bbox\u001b[39m\u001b[38;5;124m\"\u001b[39m, \u001b[38;5;28;01mFalse\u001b[39;00m):\n\u001b[1;32m    986\u001b[0m         geo[\u001b[38;5;124m\"\u001b[39m\u001b[38;5;124mbbox\u001b[39m\u001b[38;5;124m\"\u001b[39m] \u001b[38;5;241m=\u001b[39m \u001b[38;5;28mtuple\u001b[39m(\u001b[38;5;28mself\u001b[39m\u001b[38;5;241m.\u001b[39mtotal_bounds)\n",
      "File \u001b[0;32m/mnt/shared/moduleapps/EarthSci/Python-3.9.15-Mamba/lib/python3.9/site-packages/geopandas/geodataframe.py:951\u001b[0m, in \u001b[0;36mGeoDataFrame.iterfeatures\u001b[0;34m(self, na, show_bbox, drop_id)\u001b[0m\n\u001b[1;32m    949\u001b[0m feature[\u001b[38;5;124m\"\u001b[39m\u001b[38;5;124mtype\u001b[39m\u001b[38;5;124m\"\u001b[39m] \u001b[38;5;241m=\u001b[39m \u001b[38;5;124m\"\u001b[39m\u001b[38;5;124mFeature\u001b[39m\u001b[38;5;124m\"\u001b[39m\n\u001b[1;32m    950\u001b[0m feature[\u001b[38;5;124m\"\u001b[39m\u001b[38;5;124mproperties\u001b[39m\u001b[38;5;124m\"\u001b[39m] \u001b[38;5;241m=\u001b[39m properties_items\n\u001b[0;32m--> 951\u001b[0m feature[\u001b[38;5;124m\"\u001b[39m\u001b[38;5;124mgeometry\u001b[39m\u001b[38;5;124m\"\u001b[39m] \u001b[38;5;241m=\u001b[39m \u001b[43mmapping\u001b[49m\u001b[43m(\u001b[49m\u001b[43mgeom\u001b[49m\u001b[43m)\u001b[49m \u001b[38;5;28;01mif\u001b[39;00m geom \u001b[38;5;28;01melse\u001b[39;00m \u001b[38;5;28;01mNone\u001b[39;00m\n\u001b[1;32m    953\u001b[0m \u001b[38;5;28;01mif\u001b[39;00m show_bbox:\n\u001b[1;32m    954\u001b[0m     feature[\u001b[38;5;124m\"\u001b[39m\u001b[38;5;124mbbox\u001b[39m\u001b[38;5;124m\"\u001b[39m] \u001b[38;5;241m=\u001b[39m geom\u001b[38;5;241m.\u001b[39mbounds \u001b[38;5;28;01mif\u001b[39;00m geom \u001b[38;5;28;01melse\u001b[39;00m \u001b[38;5;28;01mNone\u001b[39;00m\n",
      "File \u001b[0;32m/mnt/shared/moduleapps/EarthSci/Python-3.9.15-Mamba/lib/python3.9/site-packages/shapely/geometry/geo.py:136\u001b[0m, in \u001b[0;36mmapping\u001b[0;34m(ob)\u001b[0m\n\u001b[1;32m    116\u001b[0m \u001b[38;5;28;01mdef\u001b[39;00m \u001b[38;5;21mmapping\u001b[39m(ob):\n\u001b[1;32m    117\u001b[0m \u001b[38;5;250m    \u001b[39m\u001b[38;5;124;03m\"\"\"\u001b[39;00m\n\u001b[1;32m    118\u001b[0m \u001b[38;5;124;03m    Returns a GeoJSON-like mapping from a Geometry or any\u001b[39;00m\n\u001b[1;32m    119\u001b[0m \u001b[38;5;124;03m    object which implements __geo_interface__\u001b[39;00m\n\u001b[0;32m   (...)\u001b[0m\n\u001b[1;32m    134\u001b[0m \u001b[38;5;124;03m    {'type': 'Point', 'coordinates': (0.0, 0.0)}\u001b[39;00m\n\u001b[1;32m    135\u001b[0m \u001b[38;5;124;03m    \"\"\"\u001b[39;00m\n\u001b[0;32m--> 136\u001b[0m     \u001b[38;5;28;01mreturn\u001b[39;00m \u001b[43mob\u001b[49m\u001b[38;5;241;43m.\u001b[39;49m\u001b[43m__geo_interface__\u001b[49m\n",
      "File \u001b[0;32m/mnt/shared/moduleapps/EarthSci/Python-3.9.15-Mamba/lib/python3.9/site-packages/shapely/geometry/polygon.py:265\u001b[0m, in \u001b[0;36mPolygon.__geo_interface__\u001b[0;34m(self)\u001b[0m\n\u001b[1;32m    263\u001b[0m     coords \u001b[38;5;241m=\u001b[39m []\n\u001b[1;32m    264\u001b[0m \u001b[38;5;28;01melse\u001b[39;00m:\n\u001b[0;32m--> 265\u001b[0m     coords \u001b[38;5;241m=\u001b[39m [\u001b[38;5;28mtuple\u001b[39m(\u001b[38;5;28;43mself\u001b[39;49m\u001b[38;5;241;43m.\u001b[39;49m\u001b[43mexterior\u001b[49m\u001b[38;5;241;43m.\u001b[39;49m\u001b[43mcoords\u001b[49m)]\n\u001b[1;32m    266\u001b[0m     \u001b[38;5;28;01mfor\u001b[39;00m hole \u001b[38;5;129;01min\u001b[39;00m \u001b[38;5;28mself\u001b[39m\u001b[38;5;241m.\u001b[39minteriors:\n\u001b[1;32m    267\u001b[0m         coords\u001b[38;5;241m.\u001b[39mappend(\u001b[38;5;28mtuple\u001b[39m(hole\u001b[38;5;241m.\u001b[39mcoords))\n",
      "File \u001b[0;32m/mnt/shared/moduleapps/EarthSci/Python-3.9.15-Mamba/lib/python3.9/site-packages/shapely/geometry/base.py:206\u001b[0m, in \u001b[0;36mBaseGeometry.coords\u001b[0;34m(self)\u001b[0m\n\u001b[1;32m    203\u001b[0m \u001b[38;5;129m@property\u001b[39m\n\u001b[1;32m    204\u001b[0m \u001b[38;5;28;01mdef\u001b[39;00m \u001b[38;5;21mcoords\u001b[39m(\u001b[38;5;28mself\u001b[39m):\n\u001b[1;32m    205\u001b[0m \u001b[38;5;250m    \u001b[39m\u001b[38;5;124;03m\"\"\"Access to geometry's coordinates (CoordinateSequence)\"\"\"\u001b[39;00m\n\u001b[0;32m--> 206\u001b[0m     coords_array \u001b[38;5;241m=\u001b[39m \u001b[43mshapely\u001b[49m\u001b[38;5;241;43m.\u001b[39;49m\u001b[43mget_coordinates\u001b[49m\u001b[43m(\u001b[49m\u001b[38;5;28;43mself\u001b[39;49m\u001b[43m,\u001b[49m\u001b[43m \u001b[49m\u001b[43minclude_z\u001b[49m\u001b[38;5;241;43m=\u001b[39;49m\u001b[38;5;28;43mself\u001b[39;49m\u001b[38;5;241;43m.\u001b[39;49m\u001b[43mhas_z\u001b[49m\u001b[43m)\u001b[49m\n\u001b[1;32m    207\u001b[0m     \u001b[38;5;28;01mreturn\u001b[39;00m CoordinateSequence(coords_array)\n",
      "File \u001b[0;32m/mnt/shared/moduleapps/EarthSci/Python-3.9.15-Mamba/lib/python3.9/site-packages/shapely/coordinates.py:136\u001b[0m, in \u001b[0;36mget_coordinates\u001b[0;34m(geometry, include_z, return_index)\u001b[0m\n\u001b[1;32m     93\u001b[0m \u001b[38;5;28;01mdef\u001b[39;00m \u001b[38;5;21mget_coordinates\u001b[39m(geometry, include_z\u001b[38;5;241m=\u001b[39m\u001b[38;5;28;01mFalse\u001b[39;00m, return_index\u001b[38;5;241m=\u001b[39m\u001b[38;5;28;01mFalse\u001b[39;00m):\n\u001b[1;32m     94\u001b[0m \u001b[38;5;250m    \u001b[39m\u001b[38;5;124;03m\"\"\"Gets coordinates from a geometry array as an array of floats.\u001b[39;00m\n\u001b[1;32m     95\u001b[0m \n\u001b[1;32m     96\u001b[0m \u001b[38;5;124;03m    The shape of the returned array is (N, 2), with N being the number of\u001b[39;00m\n\u001b[0;32m   (...)\u001b[0m\n\u001b[1;32m    134\u001b[0m \u001b[38;5;124;03m    ([[2.0, 2.0], [4.0, 4.0], [0.0, 0.0]], [0, 0, 1])\u001b[39;00m\n\u001b[1;32m    135\u001b[0m \u001b[38;5;124;03m    \"\"\"\u001b[39;00m\n\u001b[0;32m--> 136\u001b[0m     \u001b[38;5;28;01mreturn\u001b[39;00m \u001b[43mlib\u001b[49m\u001b[38;5;241;43m.\u001b[39;49m\u001b[43mget_coordinates\u001b[49m\u001b[43m(\u001b[49m\n\u001b[1;32m    137\u001b[0m \u001b[43m        \u001b[49m\u001b[43mnp\u001b[49m\u001b[38;5;241;43m.\u001b[39;49m\u001b[43masarray\u001b[49m\u001b[43m(\u001b[49m\u001b[43mgeometry\u001b[49m\u001b[43m,\u001b[49m\u001b[43m \u001b[49m\u001b[43mdtype\u001b[49m\u001b[38;5;241;43m=\u001b[39;49m\u001b[43mnp\u001b[49m\u001b[38;5;241;43m.\u001b[39;49m\u001b[43mobject_\u001b[49m\u001b[43m)\u001b[49m\u001b[43m,\u001b[49m\u001b[43m \u001b[49m\u001b[43minclude_z\u001b[49m\u001b[43m,\u001b[49m\u001b[43m \u001b[49m\u001b[43mreturn_index\u001b[49m\n\u001b[1;32m    138\u001b[0m \u001b[43m    \u001b[49m\u001b[43m)\u001b[49m\n",
      "\u001b[0;31mKeyboardInterrupt\u001b[0m: "
     ]
    }
   ],
   "source": [
    "pop_folder = Path('./Population')\n",
    "\n",
    "# initialize empty dataframe to store annual population data\n",
    "pop_annual = districts[['NAME_2', 'geometry']].copy()\n",
    "pop_annual = pop_annual.rename(columns={'NAME_2': 'district'})\n",
    "\n",
    "# loop through each year and compute zonal stats\n",
    "for year in range(2000, 2021):\n",
    "    raster_path = pop_folder / f'zmb_ppp_{year}_UNadj.tif'\n",
    "    # get nodata values\n",
    "    with rasterio.open(raster_path) as src:\n",
    "        nodata_val = src.nodata\n",
    "    # compute zonal stats\n",
    "    stats = zonal_stats(\n",
    "        vectors=districts,\n",
    "        raster=raster_path,\n",
    "        stats=['sum'],\n",
    "        nodata=nodata_val,\n",
    "        geojson_out=False\n",
    "    )\n",
    "    # add to dataframe\n",
    "    pop_annual[f'pop_{year}'] = [entry['sum'] for entry in stats]\n",
    "\n",
    "# convert to long format\n",
    "pop_long = pop_annual.drop(columns='geometry').melt(\n",
    "    id_vars='district',\n",
    "    var_name='year',\n",
    "    value_name='population'\n",
    ")\n",
    "pop_long['year'] = pop_long['year'].str.extract(r'(\\d{4})').astype(int)\n",
    "\n",
    "pop_long = pop_long.sort_values(['district', 'year'])\n",
    "pop_long['pop_growth'] = pop_long.groupby('district')['population'].pct_change()"
   ]
  },
  {
   "cell_type": "code",
   "execution_count": 12,
   "id": "6a6e9a01-4ce2-4a6b-9a9f-d032c11133b4",
   "metadata": {
    "scrolled": true
   },
   "outputs": [
    {
     "data": {
      "text/html": [
       "<div>\n",
       "<style scoped>\n",
       "    .dataframe tbody tr th:only-of-type {\n",
       "        vertical-align: middle;\n",
       "    }\n",
       "\n",
       "    .dataframe tbody tr th {\n",
       "        vertical-align: top;\n",
       "    }\n",
       "\n",
       "    .dataframe thead th {\n",
       "        text-align: right;\n",
       "    }\n",
       "</style>\n",
       "<table border=\"1\" class=\"dataframe\">\n",
       "  <thead>\n",
       "    <tr style=\"text-align: right;\">\n",
       "      <th></th>\n",
       "      <th>district</th>\n",
       "      <th>year</th>\n",
       "      <th>population</th>\n",
       "      <th>pop_growth</th>\n",
       "    </tr>\n",
       "  </thead>\n",
       "  <tbody>\n",
       "    <tr>\n",
       "      <th>21</th>\n",
       "      <td>Chadiza</td>\n",
       "      <td>2000</td>\n",
       "      <td>61779.734375</td>\n",
       "      <td>NaN</td>\n",
       "    </tr>\n",
       "    <tr>\n",
       "      <th>136</th>\n",
       "      <td>Chadiza</td>\n",
       "      <td>2001</td>\n",
       "      <td>62463.820312</td>\n",
       "      <td>0.011073</td>\n",
       "    </tr>\n",
       "    <tr>\n",
       "      <th>251</th>\n",
       "      <td>Chadiza</td>\n",
       "      <td>2002</td>\n",
       "      <td>64005.617188</td>\n",
       "      <td>0.024683</td>\n",
       "    </tr>\n",
       "    <tr>\n",
       "      <th>366</th>\n",
       "      <td>Chadiza</td>\n",
       "      <td>2003</td>\n",
       "      <td>64927.222656</td>\n",
       "      <td>0.014399</td>\n",
       "    </tr>\n",
       "    <tr>\n",
       "      <th>481</th>\n",
       "      <td>Chadiza</td>\n",
       "      <td>2004</td>\n",
       "      <td>66126.242188</td>\n",
       "      <td>0.018467</td>\n",
       "    </tr>\n",
       "  </tbody>\n",
       "</table>\n",
       "</div>"
      ],
      "text/plain": [
       "    district  year    population  pop_growth\n",
       "21   Chadiza  2000  61779.734375         NaN\n",
       "136  Chadiza  2001  62463.820312    0.011073\n",
       "251  Chadiza  2002  64005.617188    0.024683\n",
       "366  Chadiza  2003  64927.222656    0.014399\n",
       "481  Chadiza  2004  66126.242188    0.018467"
      ]
     },
     "execution_count": 12,
     "metadata": {},
     "output_type": "execute_result"
    }
   ],
   "source": [
    "pop_long.head()"
   ]
  },
  {
   "cell_type": "markdown",
   "id": "4e378db2-af71-479f-a455-fe7a263f8206",
   "metadata": {},
   "source": [
    "## Percent urban"
   ]
  },
  {
   "cell_type": "code",
   "execution_count": 21,
   "id": "47ce3042-127c-4b87-88eb-8872c545d680",
   "metadata": {},
   "outputs": [
    {
     "name": "stdout",
     "output_type": "stream",
     "text": [
      "Export task for 2001 started\n",
      "Export task for 2002 started\n",
      "Export task for 2003 started\n",
      "Export task for 2004 started\n",
      "Export task for 2005 started\n",
      "Export task for 2006 started\n",
      "Export task for 2007 started\n",
      "Export task for 2008 started\n",
      "Export task for 2009 started\n",
      "Export task for 2010 started\n",
      "Export task for 2011 started\n",
      "Export task for 2012 started\n",
      "Export task for 2013 started\n",
      "Export task for 2014 started\n",
      "Export task for 2015 started\n",
      "Export task for 2016 started\n",
      "Export task for 2017 started\n",
      "Export task for 2018 started\n",
      "Export task for 2019 started\n",
      "Export task for 2020 started\n",
      "Export task for 2021 started\n"
     ]
    }
   ],
   "source": [
    "import ee\n",
    "ee.Authenticate()\n",
    "ee.Initialize()\n",
    "\n",
    "# load Zambia boundary\n",
    "zambia = ee.FeatureCollection('FAO/GAUL_SIMPLIFIED_500m/2015/level0') \\\n",
    "    .filter(ee.Filter.eq('ADM0_NAME', 'Zambia'))\n",
    "\n",
    "# loop through years 2001-2021\n",
    "for year in range(2001, 2022):\n",
    "    modis = ee.ImageCollection('MODIS/006/MCD12Q1') \\\n",
    "        .filter(ee.Filter.calendarRange(year, year, 'year')) \\\n",
    "        .first() \\\n",
    "        .select('LC_Type1')\n",
    "\n",
    "    # create binary urban mask\n",
    "    urban_mask = modis.eq(13).selfMask().clip(zambia)\n",
    "    # define export task\n",
    "    task = ee.batch.Export.image.toDrive(\n",
    "        image=urban_mask,\n",
    "        description=f'modis_urban_mask_{year}',\n",
    "        folder='GEE_Exports',\n",
    "        fileNamePrefix=f'modis_urban_mask_{year}',\n",
    "        region=zambia.geometry(),\n",
    "        scale=500,\n",
    "        crs='EPSG:4326',\n",
    "        maxPixels=1e13\n",
    "    )\n",
    "\n",
    "    task.start()\n",
    "    print(f'Export task for {year} started')"
   ]
  }
 ],
 "metadata": {
  "kernelspec": {
   "display_name": "Python 3 (ipykernel)",
   "language": "python",
   "name": "python3"
  },
  "language_info": {
   "codemirror_mode": {
    "name": "ipython",
    "version": 3
   },
   "file_extension": ".py",
   "mimetype": "text/x-python",
   "name": "python",
   "nbconvert_exporter": "python",
   "pygments_lexer": "ipython3",
   "version": "3.9.15"
  }
 },
 "nbformat": 4,
 "nbformat_minor": 5
}
