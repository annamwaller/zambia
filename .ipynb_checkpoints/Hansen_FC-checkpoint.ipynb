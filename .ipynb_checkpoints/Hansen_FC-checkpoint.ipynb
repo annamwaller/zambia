{
 "cells": [
  {
   "cell_type": "code",
   "execution_count": 3,
   "id": "77f59b49-2ae9-4fe9-9db3-c195ecc84c8e",
   "metadata": {},
   "outputs": [
    {
     "data": {
      "text/html": [
       "\n",
       "            <style>\n",
       "                .geemap-dark {\n",
       "                    --jp-widgets-color: white;\n",
       "                    --jp-widgets-label-color: white;\n",
       "                    --jp-ui-font-color1: white;\n",
       "                    --jp-layout-color2: #454545;\n",
       "                    background-color: #383838;\n",
       "                }\n",
       "\n",
       "                .geemap-dark .jupyter-button {\n",
       "                    --jp-layout-color3: #383838;\n",
       "                }\n",
       "\n",
       "                .geemap-colab {\n",
       "                    background-color: var(--colab-primary-surface-color, white);\n",
       "                }\n",
       "\n",
       "                .geemap-colab .jupyter-button {\n",
       "                    --jp-layout-color3: var(--colab-primary-surface-color, white);\n",
       "                }\n",
       "            </style>\n",
       "            "
      ],
      "text/plain": [
       "<IPython.core.display.HTML object>"
      ]
     },
     "metadata": {},
     "output_type": "display_data"
    },
    {
     "data": {
      "text/html": [
       "<p>To authorize access needed by Earth Engine, open the following\n",
       "        URL in a web browser and follow the instructions:</p>\n",
       "        <p><a href=https://code.earthengine.google.com/client-auth?scopes=https%3A//www.googleapis.com/auth/earthengine%20https%3A//www.googleapis.com/auth/cloud-platform%20https%3A//www.googleapis.com/auth/devstorage.full_control&request_id=hqQaA8Vitd3tzOSrXHIa7FuroC-OBounD8J9ZEorMS4&tc=Sz54ucawfMMDCO2jhbTKjYG2GutUrJO5QhBTry4xCeE&cc=gW5DYVob-i9c0bg6qq5CPE7PXIp0wPRf6pQpw1Ib56c>https://code.earthengine.google.com/client-auth?scopes=https%3A//www.googleapis.com/auth/earthengine%20https%3A//www.googleapis.com/auth/cloud-platform%20https%3A//www.googleapis.com/auth/devstorage.full_control&request_id=hqQaA8Vitd3tzOSrXHIa7FuroC-OBounD8J9ZEorMS4&tc=Sz54ucawfMMDCO2jhbTKjYG2GutUrJO5QhBTry4xCeE&cc=gW5DYVob-i9c0bg6qq5CPE7PXIp0wPRf6pQpw1Ib56c</a></p>\n",
       "        <p>The authorization workflow will generate a code, which you should paste in the box below.</p>\n",
       "        "
      ],
      "text/plain": [
       "<IPython.core.display.HTML object>"
      ]
     },
     "metadata": {},
     "output_type": "display_data"
    },
    {
     "name": "stdin",
     "output_type": "stream",
     "text": [
      "Enter verification code:  4/1Ab_5qlnjztHAyJbohQRFwD6WQPXZ9qLMa9hgzS_LcG464XMAy_pBOZpDK_Y\n"
     ]
    },
    {
     "name": "stdout",
     "output_type": "stream",
     "text": [
      "\n",
      "Successfully saved authorization token.\n"
     ]
    }
   ],
   "source": [
    "# earth engine things\n",
    "import ee\n",
    "import geemap\n",
    "ee.Authenticate()\n",
    "ee.Initialize()"
   ]
  },
  {
   "cell_type": "code",
   "execution_count": 7,
   "id": "2a91cb86-40bf-4614-a4f1-f8f2dcc83fb9",
   "metadata": {},
   "outputs": [
    {
     "data": {
      "text/html": [
       "\n",
       "            <style>\n",
       "                .geemap-dark {\n",
       "                    --jp-widgets-color: white;\n",
       "                    --jp-widgets-label-color: white;\n",
       "                    --jp-ui-font-color1: white;\n",
       "                    --jp-layout-color2: #454545;\n",
       "                    background-color: #383838;\n",
       "                }\n",
       "\n",
       "                .geemap-dark .jupyter-button {\n",
       "                    --jp-layout-color3: #383838;\n",
       "                }\n",
       "\n",
       "                .geemap-colab {\n",
       "                    background-color: var(--colab-primary-surface-color, white);\n",
       "                }\n",
       "\n",
       "                .geemap-colab .jupyter-button {\n",
       "                    --jp-layout-color3: var(--colab-primary-surface-color, white);\n",
       "                }\n",
       "            </style>\n",
       "            "
      ],
      "text/plain": [
       "<IPython.core.display.HTML object>"
      ]
     },
     "metadata": {},
     "output_type": "display_data"
    },
    {
     "name": "stdout",
     "output_type": "stream",
     "text": [
      "Forest loss in 2018: 144001.06 hectares\n"
     ]
    }
   ],
   "source": [
    "# create interactive map\n",
    "Map = geemap.Map(center=[-13.1, 27.8], zoom=6)\n",
    "\n",
    "# load Hansen dataset\n",
    "dataset = ee.Image('UMD/hansen/global_forest_change_2023_v1_11')\n",
    "\n",
    "# bands\n",
    "tree_cover = dataset.select('treecover2000')\n",
    "loss_year = dataset.select('lossyear')\n",
    "\n",
    "# define forest threshold\n",
    "forest_2000 = tree_cover.gte(30)\n",
    "\n",
    "year = 2018\n",
    "\n",
    "loss_in_year = loss_year.eq(year - 2000)\n",
    "\n",
    "# mask to forested pixels in loss year\n",
    "loss_year_forest = loss_in_year.And(forest_2000)\n",
    "\n",
    "# convert to area (square meters)\n",
    "loss_area = loss_year_forest.multiply(ee.Image.pixelArea())\n",
    "\n",
    "# load Zambia boundary\n",
    "zambia = ee.FeatureCollection('FAO/GAUL/2015/level0') \\\n",
    "            .filter(ee.Filter.eq('ADM0_NAME', 'Zambia'))\n",
    "\n",
    "# get total loss area\n",
    "stats = loss_area.reduceRegion(\n",
    "    reducer = ee.Reducer.sum(),\n",
    "    geometry = zambia,\n",
    "    scale = 30,\n",
    "    maxPixels = 1e13\n",
    ")\n",
    "\n",
    "# get result in hectares\n",
    "area_m2 = stats.getInfo().get('lossyear', 0)\n",
    "area_ha = area_m2 / 10000\n",
    "\n",
    "print(f\"Forest loss in {year}: {area_ha:.2f} hectares\")\n",
    "\n",
    "# clip dataset to Zambia\n",
    "#clipped_dataset = dataset.clip(zambia)"
   ]
  },
  {
   "cell_type": "code",
   "execution_count": 5,
   "id": "3b1e5ac4-2d94-4949-8173-a0bc893b0e13",
   "metadata": {},
   "outputs": [
    {
     "data": {
      "text/html": [
       "\n",
       "            <style>\n",
       "                .geemap-dark {\n",
       "                    --jp-widgets-color: white;\n",
       "                    --jp-widgets-label-color: white;\n",
       "                    --jp-ui-font-color1: white;\n",
       "                    --jp-layout-color2: #454545;\n",
       "                    background-color: #383838;\n",
       "                }\n",
       "\n",
       "                .geemap-dark .jupyter-button {\n",
       "                    --jp-layout-color3: #383838;\n",
       "                }\n",
       "\n",
       "                .geemap-colab {\n",
       "                    background-color: var(--colab-primary-surface-color, white);\n",
       "                }\n",
       "\n",
       "                .geemap-colab .jupyter-button {\n",
       "                    --jp-layout-color3: var(--colab-primary-surface-color, white);\n",
       "                }\n",
       "            </style>\n",
       "            "
      ],
      "text/plain": [
       "<IPython.core.display.HTML object>"
      ]
     },
     "metadata": {},
     "output_type": "display_data"
    }
   ],
   "source": [
    "# visualization parameters\n",
    "tree_cover_vis = {\n",
    "    'bands': ['treecover2000'],\n",
    "    'min': 0,\n",
    "    'max': 100,\n",
    "    'palette': ['black', 'green']\n",
    "}\n",
    "\n",
    "loss_vis = {\n",
    "    'min': 0,\n",
    "    'max': 23,\n",
    "    'palette': ['yellow', 'red']\n",
    "}"
   ]
  },
  {
   "cell_type": "code",
   "execution_count": 6,
   "id": "c74b284e-c6c5-4c3c-833d-8b63a85ec688",
   "metadata": {},
   "outputs": [
    {
     "data": {
      "text/html": [
       "\n",
       "            <style>\n",
       "                .geemap-dark {\n",
       "                    --jp-widgets-color: white;\n",
       "                    --jp-widgets-label-color: white;\n",
       "                    --jp-ui-font-color1: white;\n",
       "                    --jp-layout-color2: #454545;\n",
       "                    background-color: #383838;\n",
       "                }\n",
       "\n",
       "                .geemap-dark .jupyter-button {\n",
       "                    --jp-layout-color3: #383838;\n",
       "                }\n",
       "\n",
       "                .geemap-colab {\n",
       "                    background-color: var(--colab-primary-surface-color, white);\n",
       "                }\n",
       "\n",
       "                .geemap-colab .jupyter-button {\n",
       "                    --jp-layout-color3: var(--colab-primary-surface-color, white);\n",
       "                }\n",
       "            </style>\n",
       "            "
      ],
      "text/plain": [
       "<IPython.core.display.HTML object>"
      ]
     },
     "metadata": {},
     "output_type": "display_data"
    },
    {
     "data": {
      "application/vnd.jupyter.widget-view+json": {
       "model_id": "6b96600f2aae43378fa5a882bbd86e09",
       "version_major": 2,
       "version_minor": 0
      },
      "text/plain": [
       "Map(center=[-13.1, 27.8], controls=(WidgetControl(options=['position', 'transparent_bg'], widget=SearchDataGUI…"
      ]
     },
     "execution_count": 6,
     "metadata": {},
     "output_type": "execute_result"
    }
   ],
   "source": [
    "# add base tree cover layer\n",
    "Map.addLayer(clipped_dataset.select('treecover2000'), tree_cover_vis, 'Tree Cover 2000')\n",
    "\n",
    "# loop through 'test years'\n",
    "for year in range(2001, 2021, 5):\n",
    "    code = year - 2000\n",
    "    annual_loss = clipped_dataset.select('lossyear') \\\n",
    "                        .eq(code) \\\n",
    "                        .selfMask()\n",
    "    Map.addLayer(annual_loss, {'palette': ['red']}, f'Tree Loss {year}')\n",
    "\n",
    "Map"
   ]
  }
 ],
 "metadata": {
  "kernelspec": {
   "display_name": "Python 3 (ipykernel)",
   "language": "python",
   "name": "python3"
  },
  "language_info": {
   "codemirror_mode": {
    "name": "ipython",
    "version": 3
   },
   "file_extension": ".py",
   "mimetype": "text/x-python",
   "name": "python",
   "nbconvert_exporter": "python",
   "pygments_lexer": "ipython3",
   "version": "3.9.15"
  }
 },
 "nbformat": 4,
 "nbformat_minor": 5
}
