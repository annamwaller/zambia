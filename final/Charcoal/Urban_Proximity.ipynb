{
 "cells": [
  {
   "cell_type": "markdown",
   "id": "e5a19db4-24e2-4d06-9f40-ae308aa68925",
   "metadata": {},
   "source": [
    "## Proximity to urban center (≥ 20,000 people) from charcoal production centroids"
   ]
  },
  {
   "cell_type": "code",
   "execution_count": 2,
   "id": "944d3e17-10cd-4530-8ff2-c1b0959cd379",
   "metadata": {},
   "outputs": [],
   "source": [
    "import rasterio\n",
    "from rasterio.features import shapes\n",
    "from shapely.geometry import shape, Point\n",
    "from shapely.ops import nearest_points\n",
    "import geopandas as gpd\n",
    "import numpy as np\n",
    "import pandas as pd"
   ]
  },
  {
   "cell_type": "code",
   "execution_count": 4,
   "id": "06ec216d-6fd8-450d-8538-75e720cd47b6",
   "metadata": {},
   "outputs": [],
   "source": [
    "zambia_fp = '/home/h99g576/zambia/Data/district.shp'\n",
    "zambia_gdf = gpd.read_file(zambia_fp)\n",
    "zambia_gdf.set_crs(epsg=4326, inplace=True)\n",
    "zambia_gdf = zambia_gdf.rename(columns={'NAME_2': 'district'})\n",
    "zambia_gdf['district'] = zambia_gdf['district'].str.strip().str.title()\n",
    "\n",
    "# load population raster\n",
    "raster_path = 'Data/zmb_ppp_2020_UNadj.tif'\n",
    "with rasterio.open(raster_path) as src:\n",
    "    pop = src.read(1)\n",
    "    transform = src.transform\n",
    "    crs = src.crs\n",
    "\n",
    "# mask out cells with low population\n",
    "pop_masked = np.where(pop >= 1, pop, 0)\n",
    "mask = pop_masked > 0\n",
    "\n",
    "# extract polygons from nonzero population pixels\n",
    "polygons = []\n",
    "pops = []\n",
    "\n",
    "for geom, val in shapes(pop_masked.astype('float32'), mask=mask, transform=transform):\n",
    "    if val > 0:\n",
    "        polygons.append(shape(geom))\n",
    "        pops.append(val)\n",
    "\n",
    "gdf_pop = gpd.GeoDataFrame({'population': pops}, geometry=polygons, crs=crs)\n",
    "gdf_pop['dummy'] = 1\n",
    "\n",
    "\n",
    "clusters = gdf_pop.dissolve(by='dummy', aggfunc='sum').explode(index_parts=False).reset_index(drop=True)\n",
    "urban_clusters = clusters[clusters['population'] >= 20000].copy()\n",
    "urban_clusters_utm = urban_clusters.to_crs(epsg=32735)\n",
    "urban_clusters_utm['centroid'] = urban_clusters_utm.geometry.centroid\n",
    "urban_centroids = urban_clusters_utm.set_geometry('centroid')\n",
    "\n",
    "# get district centroids\n",
    "zambia_gdf_utm = zambia_gdf.to_crs(epsg=32735)\n",
    "\n",
    "# calculate distance\n",
    "def nearest_distance_polygon(row, urban_geom):\n",
    "    nearest_geom = urban_geom.unary_union\n",
    "    nearest_point = nearest_points(row.geometry, nearest_geom)[1]\n",
    "    return row.geometry.distance(nearest_point)\n",
    "\n",
    "districts_utm = zambia_gdf.to_crs(epsg=32735)\n",
    "districts_utm['min_dist_to_urban_km'] = districts_utm.apply(\n",
    "    nearest_distance_polygon, axis=1, urban_geom=urban_clusters_utm\n",
    ") / 1000\n",
    "\n",
    "dist_summary = districts_utm[['district', 'min_dist_to_urban_km']].copy()\n",
    "\n",
    "# export to csv\n",
    "dist_summary.to_csv('urban_proximity.csv', index=False)"
   ]
  },
  {
   "cell_type": "code",
   "execution_count": 3,
   "id": "e30129da-38f5-4ada-8571-3fcaa22a5de8",
   "metadata": {},
   "outputs": [],
   "source": [
    "# group by district and calculate mean/min distance\n",
    "dist_summary = charcoal_points_utm.groupby('district')['dist_to_urban_km'].min().reset_index()\n",
    "dist_summary.rename(columns={'dist_to_urban_km': 'min_dist_to_urban_km'}, inplace=True)\n",
    "\n",
    "# export to csv\n",
    "dist_summary.to_csv('min_distance_urban_km.csv', index=False)"
   ]
  },
  {
   "cell_type": "code",
   "execution_count": 9,
   "id": "af72b2a2-728a-4bf8-8405-21e3fbf83553",
   "metadata": {},
   "outputs": [
    {
     "name": "stdout",
     "output_type": "stream",
     "text": [
      "    district  charcoal  longitude   latitude                         geometry  \\\n",
      "0     Mumbwa      18.0  26.544014 -14.967912   POINT (450970.357 8345172.708)   \n",
      "1    Masaiti      51.0  28.649769 -13.387429   POINT (678643.806 8519423.670)   \n",
      "2    Mpongwe      25.0  27.742530 -13.580970   POINT (580331.595 8498493.302)   \n",
      "3    Lundazi       3.0  33.237824 -12.398848  POINT (1179256.358 8621379.464)   \n",
      "4    Petauke      11.0  31.343907 -14.073172   POINT (969352.405 8439848.846)   \n",
      "5   Mufumbwe      14.0  25.228858 -13.826156   POINT (308562.952 8470792.589)   \n",
      "6    Solwezi      23.0  26.504885 -12.560471   POINT (446215.543 8611418.802)   \n",
      "7      Mbala       9.0  31.427956  -8.963148   POINT (987208.190 9006284.608)   \n",
      "8     Mungwi      34.0  31.736708  -9.892888  POINT (1019852.288 8902732.044)   \n",
      "9      Choma      26.0  26.986164 -16.762439   POINT (498525.384 8146724.812)   \n",
      "10   Namwala      21.0  26.774275 -15.941772   POINT (475842.246 8237492.432)   \n",
      "\n",
      "    dist_to_urban_km  \n",
      "0          51.751921  \n",
      "1           2.998288  \n",
      "2          10.439345  \n",
      "3           5.425530  \n",
      "4           5.465247  \n",
      "5          77.493418  \n",
      "6          32.527921  \n",
      "7           5.389108  \n",
      "8          18.899427  \n",
      "9           0.684678  \n",
      "10         13.545595  \n"
     ]
    }
   ],
   "source": [
    "print(charcoal_points_utm)"
   ]
  }
 ],
 "metadata": {
  "kernelspec": {
   "display_name": "Python 3 (ipykernel)",
   "language": "python",
   "name": "python3"
  },
  "language_info": {
   "codemirror_mode": {
    "name": "ipython",
    "version": 3
   },
   "file_extension": ".py",
   "mimetype": "text/x-python",
   "name": "python",
   "nbconvert_exporter": "python",
   "pygments_lexer": "ipython3",
   "version": "3.9.15"
  }
 },
 "nbformat": 4,
 "nbformat_minor": 5
}
