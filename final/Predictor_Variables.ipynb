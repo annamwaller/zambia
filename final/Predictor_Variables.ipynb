{
 "cells": [
  {
   "cell_type": "markdown",
   "id": "b0f994b8-7fa4-453a-a435-bc50df84d18b",
   "metadata": {},
   "source": [
    "## Load and prepare data for regression analysis"
   ]
  },
  {
   "cell_type": "code",
   "execution_count": 1,
   "id": "310afb89-2d0f-4feb-95e1-17e83957b135",
   "metadata": {},
   "outputs": [],
   "source": [
    "import pandas as pd\n",
    "import geopandas as gpd"
   ]
  },
  {
   "cell_type": "code",
   "execution_count": 2,
   "id": "01cc0eae-998c-42ae-a93b-134e73a2bae2",
   "metadata": {},
   "outputs": [
    {
     "name": "stderr",
     "output_type": "stream",
     "text": [
      "ERROR 1: PROJ: proj_create_from_database: Open of /mnt/shared/moduleapps/EarthSci/Python-3.9.15-Mamba/share/proj failed\n"
     ]
    }
   ],
   "source": [
    "# forest loss data\n",
    "df_forest = pd.read_csv('Data/district_forest_cover.csv')\n",
    "\n",
    "# SPEI growing period data\n",
    "df_spei = pd.read_csv('Data/district_province_spei_growingperiod.csv')\n",
    "\n",
    "# rename season_year column in SPEI df\n",
    "df_spei = df_spei.rename(columns={'season_year': 'year'})\n",
    "\n",
    "# population data\n",
    "df_pop = pd.read_csv('Data/district_pop_growth.csv')\n",
    "\n",
    "# clean columns\n",
    "df_pop = df_pop.drop(columns=['Unnamed: 0'])\n",
    "\n",
    "for df in [df_forest, df_pop, df_spei]:\n",
    "    df['district'] = df['district'].str.strip().str.title()\n",
    "\n",
    "# calculate population density\n",
    "# load district shapefile\n",
    "districts_gdf = gpd.read_file('Data/district.shp')\n",
    "\n",
    "# set CRS\n",
    "districts_gdf = districts_gdf.set_crs(epsg=4326)\n",
    "\n",
    "# reproject to a metric CRS\n",
    "districts_gdf = districts_gdf.to_crs(epsg=32735)\n",
    "\n",
    "# compute area (square kilometers)\n",
    "districts_gdf['district_area_km2'] = districts_gdf['geometry'].area / 1e6\n",
    "\n",
    "# standardize district names\n",
    "districts_gdf['district'] = districts_gdf['NAME_2'].str.strip().str.title()\n",
    "df_pop['district'] = df_pop['district'].str.strip().str.title()\n",
    "\n",
    "# drop geometry\n",
    "area_df = districts_gdf[['district', 'district_area_km2']]\n",
    "\n",
    "# merge with population\n",
    "df_pop = df_pop.merge(area_df, on='district', how='left')\n",
    "\n",
    "# calculate population density\n",
    "df_pop['pop_density'] = df_pop['population'] / df_pop['district_area_km2']\n",
    "\n",
    "merged = (df_forest\n",
    "          .merge(df_pop,  on=['district', 'year'], how='outer')\n",
    "          .merge(df_spei, on=['district', 'year'], how='outer'))\n",
    "\n",
    "# calculate percent forest cover in 2000\n",
    "merged['percent_forest_2000'] = (merged['forest_2000_m2'] / merged['district_area_km2']) * 100\n",
    "\n",
    "# compute SPEI lags\n",
    "merged = merged.sort_values(['district', 'year'])\n",
    "for lag in range(1, 6):\n",
    "    merged[f'mean_spei_lag{lag}'] = (\n",
    "        merged.groupby('district')['mean_growing_spei'].shift(lag)\n",
    "    )\n",
    "\n",
    "model_vars = ['percent_loss_annual', 'mean_spei_lag4',\n",
    "              'pop_density', 'percent_forest_2000']\n",
    "\n",
    "cleaned = merged[\n",
    "    (merged['year'].between(2001, 2020)) & \n",
    "    merged[model_vars].notna().all(axis=1)\n",
    "].copy()\n",
    "\n",
    "# center population density\n",
    "cleaned['pop_density_c'] = cleaned['pop_density'] - cleaned['pop_density'].mean()\n",
    "\n",
    "# scale population density\n",
    "cleaned['pop_density_c_scaled'] = cleaned['pop_density_c'] / 100\n",
    "\n",
    "# within-district centering to isolate changes over time\n",
    "cleaned['pop_density_wi'] = (\n",
    "    cleaned['pop_density_c_scaled'] -\n",
    "    cleaned.groupby('district')['pop_density_c_scaled'].transform('mean')\n",
    ")\n",
    "\n",
    "# create interaction term\n",
    "cleaned['spei4_x_popdens'] = cleaned['mean_spei_lag4'] * cleaned['pop_density_wi']\n",
    "    \n",
    "cleaned.head()\n",
    "\n",
    "# export to csv\n",
    "cleaned.to_csv('regression_predictors.csv', index=False)"
   ]
  },
  {
   "cell_type": "code",
   "execution_count": 3,
   "id": "d534b66c-ef01-4d2c-84f3-f058b12feb98",
   "metadata": {},
   "outputs": [
    {
     "name": "stdout",
     "output_type": "stream",
     "text": [
      "SPEI districts: ['Chadiza', 'Chama', 'Chasefu', 'Chavuma', 'Chembe', 'Chibombo', 'Chiengi', 'Chifunabuli', 'Chikankanta', 'Chilanga', 'Chililabombwe', 'Chilubi', 'Chingola', 'Chinsali', 'Chipangali', 'Chipata', 'Chipili', 'Chirundu', 'Chisamba', 'Chitambo', 'Choma', 'Chongwe', 'Gwembe', 'Ikelenge', 'Isoka', 'Itezhi-Tezhi', 'Kabompo', 'Kabwe', 'Kafue', 'Kalabo', 'Kalomo', 'Kalulushi', 'Kalumbila', 'Kanchibiya', 'Kaoma', 'Kapiri Mposhi', 'Kaputa', 'Kasama', 'Kasempa', 'Kasenengwa', 'Katete', 'Kawambwa', 'Kazungula', 'Kitwe', 'Lavushimanda', 'Limulunga', 'Livingstone', 'Luampa', 'Luangwa', 'Luano', 'Luanshya', 'Lufwanyama', 'Lukulu', 'Lumezi', 'Lundazi', 'Lunga', 'Lunte District', 'Lupososhi', 'Lusaka', 'Luwingu', 'Mafinga', 'Mambwe', 'Mansa', 'Manyinga', 'Masaiti', 'Mazabuka', 'Mbala', 'Milengi', 'Mitete', 'Mkushi', 'Mongu', 'Monze', 'Mpika', 'Mpongwe', 'Mporokoso', 'Mpulungu', 'Mufulira', 'Mufumbwe', 'Mulobezi', 'Mumbwa', 'Mungwi', 'Mushindano', 'Mwandi', 'Mwansabombwe', 'Mwense', 'Mwinilunga', 'Nakonde', 'Nalolo', 'Namwala', 'Nchelenge', 'Ndola', 'Ngabwe', 'Nkeyema', 'Nsama', 'Nyimba', 'Pemba', 'Petauke', 'Rufunsa', 'Samfya', 'Senanga', 'Senga Hill', 'Serenje', 'Sesheke', \"Shang'Ombo\", 'Shibuyunji', \"Shiwamg'Andu\", 'Siavonga', 'Sikongo', 'Sinazongwe', 'Sinda', 'Sioma', 'Solwezi', 'Vubwi', 'Zambezi', 'Zimba']\n",
      "Forest districts: ['Chadiza', 'Chama', 'Chavuma', 'Chibombo', 'Chienge', 'Chililabombwe', 'Chilubi', 'Chingola', 'Chinsali', 'Chipata', 'Choma', 'Chongwe', 'Gwembe', 'Isoka', 'Itezhi-Tezhi', 'Kabompo', 'Kabwe', 'Kafue', 'Kalabo', 'Kalomo', 'Kalulushi', 'Kaoma', 'Kapiri-Mposhi', 'Kaputa', 'Kasama', 'Kasempa', 'Katete', 'Kawambwa', 'Kazungula', 'Kitwe', 'Livingstone', 'Luangwa', 'Luanshya', 'Lufwanyama', 'Lukulu', 'Lundazi', 'Lusaka', 'Luwingu', 'Mambwe', 'Mansa', 'Masaiti', 'Mazabuka', 'Mbala', 'Milenge', 'Mkushi', 'Mongu', 'Monze', 'Mpika', 'Mpongwe', 'Mporokoso', 'Mpulungu', 'Mufulira', 'Mufumbwe', 'Mumbwa', 'Mungwi', 'Mwense', 'Mwinilunga', 'Nakonde', 'Namwala', 'Nchelenge', 'Ndola', 'Nyimba', 'Petauke', 'Samfya', 'Senanga', 'Serenje', 'Sesheke', \"Shang'Ombo\", 'Siavonga', 'Sinazongwe', 'Solwezi', 'Zambezi']\n",
      "Pop districts: ['Chadiza', 'Chama', 'Chasefu', 'Chavuma', 'Chembe', 'Chibombo', 'Chiengi', 'Chifunabuli', 'Chikankanta', 'Chilanga', 'Chililabombwe', 'Chilubi', 'Chingola', 'Chinsali', 'Chipangali', 'Chipata', 'Chipili', 'Chirundu', 'Chisamba', 'Chitambo', 'Choma', 'Chongwe', 'Gwembe', 'Ikelenge', 'Isoka', 'Itezhi-Tezhi', 'Kabompo', 'Kabwe', 'Kafue', 'Kalabo', 'Kalomo', 'Kalulushi', 'Kalumbila', 'Kanchibiya', 'Kaoma', 'Kapiri Mposhi', 'Kaputa', 'Kasama', 'Kasempa', 'Kasenengwa', 'Katete', 'Kawambwa', 'Kazungula', 'Kitwe', 'Lavushimanda', 'Limulunga', 'Livingstone', 'Luampa', 'Luangwa', 'Luano', 'Luanshya', 'Lufwanyama', 'Lukulu', 'Lumezi', 'Lundazi', 'Lunga', 'Lunte District', 'Lupososhi', 'Lusaka', 'Luwingu', 'Mafinga', 'Mambwe', 'Mansa', 'Manyinga', 'Masaiti', 'Mazabuka', 'Mbala', 'Milengi', 'Mitete', 'Mkushi', 'Mongu', 'Monze', 'Mpika', 'Mpongwe', 'Mporokoso', 'Mpulungu', 'Mufulira', 'Mufumbwe', 'Mulobezi', 'Mumbwa', 'Mungwi', 'Mushindano', 'Mwandi', 'Mwansabombwe', 'Mwense', 'Mwinilunga', 'Nakonde', 'Nalolo', 'Namwala', 'Nchelenge', 'Ndola', 'Ngabwe', 'Nkeyema', 'Nsama', 'Nyimba', 'Pemba', 'Petauke', 'Rufunsa', 'Samfya', 'Senanga', 'Senga Hill', 'Serenje', 'Sesheke', \"Shang'Ombo\", 'Shibuyunji', \"Shiwamg'Andu\", 'Siavonga', 'Sikongo', 'Sinazongwe', 'Sinda', 'Sioma', 'Solwezi', 'Vubwi', 'Zambezi', 'Zimba']\n"
     ]
    }
   ],
   "source": [
    "# Check district coverage in each file\n",
    "print(\"SPEI districts:\", sorted(df_spei['district'].unique()))\n",
    "print(\"Forest districts:\", sorted(df_forest['district'].unique()))\n",
    "print(\"Pop districts:\", sorted(df_pop['district'].unique()))"
   ]
  }
 ],
 "metadata": {
  "kernelspec": {
   "display_name": "Python 3 (ipykernel)",
   "language": "python",
   "name": "python3"
  },
  "language_info": {
   "codemirror_mode": {
    "name": "ipython",
    "version": 3
   },
   "file_extension": ".py",
   "mimetype": "text/x-python",
   "name": "python",
   "nbconvert_exporter": "python",
   "pygments_lexer": "ipython3",
   "version": "3.9.15"
  }
 },
 "nbformat": 4,
 "nbformat_minor": 5
}
