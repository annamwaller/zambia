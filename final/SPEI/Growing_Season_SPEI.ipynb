{
 "cells": [
  {
   "cell_type": "code",
   "execution_count": 1,
   "id": "35c70a93-293e-4774-a5a1-b03c8642c7f2",
   "metadata": {},
   "outputs": [],
   "source": [
    "import pandas as pd\n",
    "import matplotlib.pyplot as plt\n",
    "import geopandas as gpd\n",
    "import seaborn as sns\n",
    "from datetime import datetime, timedelta\n",
    "from dateutil.relativedelta import relativedelta"
   ]
  },
  {
   "cell_type": "markdown",
   "id": "128012d3-e257-434c-b030-26bb37e8f918",
   "metadata": {},
   "source": [
    "## Load and prepare data"
   ]
  },
  {
   "cell_type": "code",
   "execution_count": 2,
   "id": "aae0d6e8-8101-4b3d-a848-206696342b37",
   "metadata": {},
   "outputs": [
    {
     "name": "stderr",
     "output_type": "stream",
     "text": [
      "ERROR 1: PROJ: proj_create_from_database: Open of /mnt/shared/moduleapps/EarthSci/Python-3.9.15-Mamba/share/proj failed\n"
     ]
    }
   ],
   "source": [
    "grow_df = pd.read_csv('Data/full_grow_data.csv')\n",
    "spei_df = pd.read_csv('Data/district_spei_average_long.csv')\n",
    "gdf = gpd.read_file('Data/district.shp')\n",
    "\n",
    "grow_df['mean_start_date'] = grow_df.apply(\n",
    "    lambda row: datetime(int(row['year']), 1, 1) + timedelta(days=row['mean_start_day'] - 1),\n",
    "    axis=1\n",
    ")\n",
    "\n",
    "grow_df['mean_end_date'] = grow_df['mean_start_date'] + pd.to_timedelta(grow_df['mean_growing_period'], unit='D')\n",
    "\n",
    "spei_df['date'] = pd.to_datetime(spei_df['date'])"
   ]
  },
  {
   "cell_type": "markdown",
   "id": "53ab83c9-e8ed-4d80-82bf-924eb780e950",
   "metadata": {},
   "source": [
    "## Calculate seasonal SPEI for each growing season"
   ]
  },
  {
   "cell_type": "code",
   "execution_count": 3,
   "id": "a45f4f1d-c377-4fc9-a2cb-0f7de0768d85",
   "metadata": {},
   "outputs": [],
   "source": [
    "# create empty list to store results\n",
    "seasonal_spei = []\n",
    "\n",
    "for _, row in grow_df.iterrows():\n",
    "    district = row['district']\n",
    "    start = row['mean_start_date']\n",
    "    end = row['mean_end_date']\n",
    "    season_year = row['year']\n",
    "\n",
    "    # list the 15th of month dates\n",
    "    fifteenth_dates = []\n",
    "    current = start.replace(day=15)\n",
    "    if current < start:\n",
    "        current += relativedelta(months = 1)\n",
    "\n",
    "    while current <= end: \n",
    "        fifteenth_dates.append(current)\n",
    "        current += relativedelta(months=1)\n",
    "\n",
    "    # convert 15th dates to corresponding month-year strings\n",
    "    valid_months = set((d.year, d.month) for d in fifteenth_dates)\n",
    "    \n",
    "    # filter SPEI for this district and growing season\n",
    "    matched_spei = spei_df[\n",
    "        (spei_df['district'] == district) &\n",
    "        (spei_df['date'].apply(lambda x: (x.year, x.month)).isin(valid_months))\n",
    "    ]\n",
    "    # if matches found, compute mean SPEI\n",
    "    if not matched_spei.empty:\n",
    "        mean_spei = matched_spei['spei'].mean()\n",
    "        median_spei = matched_spei['spei'].median()\n",
    "        seasonal_spei.append({\n",
    "            'district': district,\n",
    "            'season_year': season_year,\n",
    "            'mean_growing_spei': mean_spei,\n",
    "            'median_growing_spei': median_spei,\n",
    "            'n_months': matched_spei.shape[0]\n",
    "        })\n",
    "\n",
    "seasonal_df = pd.DataFrame(seasonal_spei)"
   ]
  },
  {
   "cell_type": "markdown",
   "id": "d2eb4fce-c60f-4d39-b161-e66f5f9a04ec",
   "metadata": {},
   "source": [
    "## Bin into provinces"
   ]
  },
  {
   "cell_type": "code",
   "execution_count": 4,
   "id": "da0386b9-6085-4118-954c-742d0b1becb6",
   "metadata": {},
   "outputs": [],
   "source": [
    "# create district-province lookup\n",
    "district_to_province = gdf[['NAME_2', 'NAME_1']].drop_duplicates()\n",
    "district_to_province.columns = ['district', 'province']\n",
    "\n",
    "# merge province info\n",
    "seasonal_df = seasonal_df.merge(district_to_province, on='district', how='left')\n",
    "\n",
    "# merge with growing season info to get start/end days\n",
    "grow_df = grow_df.merge(district_to_province, on='district', how='left')\n",
    "province_avg_start = grow_df.groupby('province')['mean_start_day'].mean().reset_index()\n",
    "province_avg_start['province_avg_start_date'] = province_avg_start['mean_start_day'].apply(\n",
    "    lambda d: (datetime(2001, 1, 1) + timedelta(days=d - 1)).strftime('%B %d')\n",
    ")\n",
    "\n",
    "province_avg_end = grow_df.groupby('province')['mean_end_day'].mean().reset_index()\n",
    "province_avg_end['province_avg_end_date'] = province_avg_end['mean_end_day'].apply(\n",
    "    lambda d: (datetime(2001, 1, 1) + timedelta(days=d - 1)).strftime('%B %d')\n",
    ")\n",
    "\n",
    "# merge average start/end dates\n",
    "final_df = seasonal_df.merge(province_avg_start[['province', 'province_avg_start_date']], on='province', how='left')\n",
    "final_df = final_df.merge(province_avg_end[['province', 'province_avg_end_date']], on='province', how='left')\n",
    "\n",
    "# export table\n",
    "final_df.to_csv('district_province_spei_growingperiod.csv', index=False)"
   ]
  }
 ],
 "metadata": {
  "kernelspec": {
   "display_name": "Python 3 (ipykernel)",
   "language": "python",
   "name": "python3"
  },
  "language_info": {
   "codemirror_mode": {
    "name": "ipython",
    "version": 3
   },
   "file_extension": ".py",
   "mimetype": "text/x-python",
   "name": "python",
   "nbconvert_exporter": "python",
   "pygments_lexer": "ipython3",
   "version": "3.9.15"
  }
 },
 "nbformat": 4,
 "nbformat_minor": 5
}
