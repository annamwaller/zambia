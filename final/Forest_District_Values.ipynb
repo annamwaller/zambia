{
 "cells": [
  {
   "cell_type": "code",
   "execution_count": 1,
   "id": "3112034d-751d-4062-a60a-7b7701f81926",
   "metadata": {},
   "outputs": [
    {
     "data": {
      "text/html": [
       "<p>To authorize access needed by Earth Engine, open the following\n",
       "        URL in a web browser and follow the instructions:</p>\n",
       "        <p><a href=https://code.earthengine.google.com/client-auth?scopes=https%3A//www.googleapis.com/auth/earthengine%20https%3A//www.googleapis.com/auth/cloud-platform%20https%3A//www.googleapis.com/auth/devstorage.full_control&request_id=HIzlT7cKyu86D8ZOA07Y8GLei_LYvZGO0Zu0bL07bO0&tc=Jtr5GUS_Hk8c6i9hOoyjAL0duvjUPtz2hWIyt9FvVqs&cc=Hd3WL9GUQ3TaTL81I2gyU6NSkX4Y-Y8xGHr_Ek_9_po>https://code.earthengine.google.com/client-auth?scopes=https%3A//www.googleapis.com/auth/earthengine%20https%3A//www.googleapis.com/auth/cloud-platform%20https%3A//www.googleapis.com/auth/devstorage.full_control&request_id=HIzlT7cKyu86D8ZOA07Y8GLei_LYvZGO0Zu0bL07bO0&tc=Jtr5GUS_Hk8c6i9hOoyjAL0duvjUPtz2hWIyt9FvVqs&cc=Hd3WL9GUQ3TaTL81I2gyU6NSkX4Y-Y8xGHr_Ek_9_po</a></p>\n",
       "        <p>The authorization workflow will generate a code, which you should paste in the box below.</p>\n",
       "        "
      ],
      "text/plain": [
       "<IPython.core.display.HTML object>"
      ]
     },
     "metadata": {},
     "output_type": "display_data"
    },
    {
     "name": "stdin",
     "output_type": "stream",
     "text": [
      "Enter verification code:  4/1AVMBsJhVP-E9GJkJvpFWcJCzouJnNtuuuLRkKu9cTmKYYZ_vPBxFsKSaaw4\n"
     ]
    },
    {
     "name": "stdout",
     "output_type": "stream",
     "text": [
      "\n",
      "Successfully saved authorization token.\n"
     ]
    }
   ],
   "source": [
    "import pandas as pd\n",
    "import ee\n",
    "import geemap\n",
    "\n",
    "# integrate GEE\n",
    "ee.Authenticate()\n",
    "ee.Initialize()"
   ]
  },
  {
   "cell_type": "markdown",
   "id": "f7533914-a8da-4b42-a61a-7f7ea1006867",
   "metadata": {},
   "source": [
    "## Load data, select bands, define forest as pixels with canopy cover ≥ 30%"
   ]
  },
  {
   "cell_type": "code",
   "execution_count": 2,
   "id": "fcfe25af-1934-4f89-a8ba-05b0e609ba9a",
   "metadata": {},
   "outputs": [
    {
     "data": {
      "text/html": [
       "\n",
       "            <style>\n",
       "                .geemap-dark {\n",
       "                    --jp-widgets-color: white;\n",
       "                    --jp-widgets-label-color: white;\n",
       "                    --jp-ui-font-color1: white;\n",
       "                    --jp-layout-color2: #454545;\n",
       "                    background-color: #383838;\n",
       "                }\n",
       "\n",
       "                .geemap-dark .jupyter-button {\n",
       "                    --jp-layout-color3: #383838;\n",
       "                }\n",
       "\n",
       "                .geemap-colab {\n",
       "                    background-color: var(--colab-primary-surface-color, white);\n",
       "                }\n",
       "\n",
       "                .geemap-colab .jupyter-button {\n",
       "                    --jp-layout-color3: var(--colab-primary-surface-color, white);\n",
       "                }\n",
       "            </style>\n",
       "            "
      ],
      "text/plain": [
       "<IPython.core.display.HTML object>"
      ]
     },
     "metadata": {},
     "output_type": "display_data"
    }
   ],
   "source": [
    "# load Hansen dataset\n",
    "dataset = ee.Image('UMD/hansen/global_forest_change_2023_v1_11')\n",
    "\n",
    "# bands\n",
    "tree_cover = dataset.select('treecover2000')\n",
    "loss_year = dataset.select('lossyear')\n",
    "\n",
    "# define forest threshold\n",
    "forest_2000 = tree_cover.gte(30)"
   ]
  },
  {
   "cell_type": "markdown",
   "id": "e1bab9df-905e-48d7-8bb8-f5271768288b",
   "metadata": {},
   "source": [
    "## Compute yearly forest loss in % loss and square meters"
   ]
  },
  {
   "cell_type": "code",
   "execution_count": 3,
   "id": "47893239-b1c5-47ea-bb70-7d2ee4eee994",
   "metadata": {},
   "outputs": [
    {
     "data": {
      "text/html": [
       "\n",
       "            <style>\n",
       "                .geemap-dark {\n",
       "                    --jp-widgets-color: white;\n",
       "                    --jp-widgets-label-color: white;\n",
       "                    --jp-ui-font-color1: white;\n",
       "                    --jp-layout-color2: #454545;\n",
       "                    background-color: #383838;\n",
       "                }\n",
       "\n",
       "                .geemap-dark .jupyter-button {\n",
       "                    --jp-layout-color3: #383838;\n",
       "                }\n",
       "\n",
       "                .geemap-colab {\n",
       "                    background-color: var(--colab-primary-surface-color, white);\n",
       "                }\n",
       "\n",
       "                .geemap-colab .jupyter-button {\n",
       "                    --jp-layout-color3: var(--colab-primary-surface-color, white);\n",
       "                }\n",
       "            </style>\n",
       "            "
      ],
      "text/plain": [
       "<IPython.core.display.HTML object>"
      ]
     },
     "metadata": {},
     "output_type": "display_data"
    }
   ],
   "source": [
    "# level 2: district level\n",
    "districts = ee.FeatureCollection('projects/ee-annamwaller/assets/zm_shp')\n",
    "\n",
    "# baseline forest area per district\n",
    "def compute_baseline(feature):\n",
    "    name = feature.get('DISTRICT')\n",
    "    # multiply forest mask by pixel area and rename band\n",
    "    forest_area = forest_2000.multiply(ee.Image.pixelArea()).rename('forest_area')\n",
    "    # compute sum of forested area in m² within the district\n",
    "    stats = forest_area.reduceRegion(\n",
    "        reducer = ee.Reducer.sum(),\n",
    "        geometry = feature.geometry(),\n",
    "        scale = 30,\n",
    "        maxPixels = 1e13\n",
    "    )\n",
    "    area_m2 = ee.Algorithms.If(stats.contains('forest_area'), stats.get('forest_area'), 0)\n",
    "    return feature.set({'district': name, 'baseline_m2': area_m2})\n",
    "\n",
    "baseline = districts.map(compute_baseline).getInfo()\n",
    "\n",
    "# store baseline forest area per district\n",
    "baseline_dict = {\n",
    "    f['properties']['district']: f['properties']['baseline_m2'] or 0 for f in baseline['features']\n",
    "}\n",
    "\n",
    "# initialize previous forest area tracker\n",
    "previous_forest_m2 = {d: baseline_dict.get(d, 0) for d in baseline_dict}\n",
    "cumulative_loss_m2 = {}\n",
    "\n",
    "# create empty list to store data\n",
    "results = []\n",
    "\n",
    "for year in range(2001, 2023):\n",
    "    year_offset = year - 2000\n",
    "    loss_in_year = loss_year.eq(year_offset)\n",
    "    # mask to forested pixels in loss year\n",
    "    loss_year_forest = loss_in_year.And(forest_2000)\n",
    "    # convert to area (square meters)\n",
    "    loss_area = loss_year_forest.multiply(ee.Image.pixelArea())\n",
    "    loss_area = loss_area.rename('loss_area')\n",
    "    # get total loss area for each district\n",
    "    def compute_loss(feature):\n",
    "        # district names\n",
    "        name = feature.get('DISTRICT')\n",
    "        stats = loss_area.reduceRegion(\n",
    "            reducer = ee.Reducer.sum(),\n",
    "            geometry = feature.geometry(),\n",
    "            scale = 30,\n",
    "            maxPixels = 1e13\n",
    "        )\n",
    "       \n",
    "        area_m2 = stats.get('loss_area')\n",
    "        return feature.set({\n",
    "            'district': name, \n",
    "            'year': year,\n",
    "            'loss_m2': area_m2\n",
    "        })\n",
    "        \n",
    "    yearly_results = districts.map(compute_loss).getInfo()\n",
    "\n",
    "    # extract data to Python\n",
    "    for feat in yearly_results['features']:\n",
    "        properties = feat['properties']\n",
    "        district = properties['district']\n",
    "        loss_m2 = properties['loss_m2'] or 0\n",
    "        previous_m2 = previous_forest_m2.get(district, 0)\n",
    "        cumulative_loss_m2[district] = cumulative_loss_m2.get(district, 0) + loss_m2\n",
    "        remaining_m2 = previous_m2 - loss_m2\n",
    "        remaining_ha = max(remaining_m2 / 10000, 0)\n",
    "        # find annual percent forest loss\n",
    "        percent_loss_annual = (loss_m2 / previous_m2 * 100) if previous_m2 > 0 else 0 \n",
    "        previous_forest_m2[district] = max(remaining_m2, 0)\n",
    "        results.append({\n",
    "            'district': properties['district'],\n",
    "            'year': properties['year'],\n",
    "            'forest_cover_ha': remaining_ha,\n",
    "            'loss_m2': loss_m2,\n",
    "            'percent_loss_annual': percent_loss_annual,\n",
    "            'forest_2000_m2': baseline_dict.get(district, 0)\n",
    "        })\n",
    "\n",
    "# convert to pandas dataframe\n",
    "df = pd.DataFrame(results)\n",
    "df = df.sort_values(by=['district', 'year'])\n",
    "\n",
    "# save as csv\n",
    "df.to_csv('district_forest_cover.csv', index=False)"
   ]
  }
 ],
 "metadata": {
  "kernelspec": {
   "display_name": "Python 3 (ipykernel)",
   "language": "python",
   "name": "python3"
  },
  "language_info": {
   "codemirror_mode": {
    "name": "ipython",
    "version": 3
   },
   "file_extension": ".py",
   "mimetype": "text/x-python",
   "name": "python",
   "nbconvert_exporter": "python",
   "pygments_lexer": "ipython3",
   "version": "3.9.15"
  }
 },
 "nbformat": 4,
 "nbformat_minor": 5
}
