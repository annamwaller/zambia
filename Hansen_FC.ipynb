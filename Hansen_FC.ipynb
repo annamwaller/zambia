{
 "cells": [
  {
   "cell_type": "code",
   "execution_count": 3,
   "id": "77f59b49-2ae9-4fe9-9db3-c195ecc84c8e",
   "metadata": {},
   "outputs": [
    {
     "data": {
      "text/html": [
       "\n",
       "            <style>\n",
       "                .geemap-dark {\n",
       "                    --jp-widgets-color: white;\n",
       "                    --jp-widgets-label-color: white;\n",
       "                    --jp-ui-font-color1: white;\n",
       "                    --jp-layout-color2: #454545;\n",
       "                    background-color: #383838;\n",
       "                }\n",
       "\n",
       "                .geemap-dark .jupyter-button {\n",
       "                    --jp-layout-color3: #383838;\n",
       "                }\n",
       "\n",
       "                .geemap-colab {\n",
       "                    background-color: var(--colab-primary-surface-color, white);\n",
       "                }\n",
       "\n",
       "                .geemap-colab .jupyter-button {\n",
       "                    --jp-layout-color3: var(--colab-primary-surface-color, white);\n",
       "                }\n",
       "            </style>\n",
       "            "
      ],
      "text/plain": [
       "<IPython.core.display.HTML object>"
      ]
     },
     "metadata": {},
     "output_type": "display_data"
    },
    {
     "data": {
      "text/html": [
       "<p>To authorize access needed by Earth Engine, open the following\n",
       "        URL in a web browser and follow the instructions:</p>\n",
       "        <p><a href=https://code.earthengine.google.com/client-auth?scopes=https%3A//www.googleapis.com/auth/earthengine%20https%3A//www.googleapis.com/auth/cloud-platform%20https%3A//www.googleapis.com/auth/devstorage.full_control&request_id=7NckxN1o64wtCU1EV87lTsnnn0YJx0ws0NE6isLR_rg&tc=inBNVbyO4pLAxtxcjLp3Oy_xCsawtVaekOuBP8ElJ40&cc=wdep7gudekZPwGom8zFtkPvsK26k6rkZpm1bRCNESWg>https://code.earthengine.google.com/client-auth?scopes=https%3A//www.googleapis.com/auth/earthengine%20https%3A//www.googleapis.com/auth/cloud-platform%20https%3A//www.googleapis.com/auth/devstorage.full_control&request_id=7NckxN1o64wtCU1EV87lTsnnn0YJx0ws0NE6isLR_rg&tc=inBNVbyO4pLAxtxcjLp3Oy_xCsawtVaekOuBP8ElJ40&cc=wdep7gudekZPwGom8zFtkPvsK26k6rkZpm1bRCNESWg</a></p>\n",
       "        <p>The authorization workflow will generate a code, which you should paste in the box below.</p>\n",
       "        "
      ],
      "text/plain": [
       "<IPython.core.display.HTML object>"
      ]
     },
     "metadata": {},
     "output_type": "display_data"
    },
    {
     "name": "stdin",
     "output_type": "stream",
     "text": [
      "Enter verification code:  4/1Ab_5qlk9yukiTwanpG6H5WPlWF-qyTOfOCbu1EoItDnDmENTwVNCOLpkV30\n"
     ]
    },
    {
     "name": "stdout",
     "output_type": "stream",
     "text": [
      "\n",
      "Successfully saved authorization token.\n"
     ]
    }
   ],
   "source": [
    "# earth engine things\n",
    "import ee\n",
    "import geemap\n",
    "ee.Authenticate()\n",
    "ee.Initialize()"
   ]
  },
  {
   "cell_type": "markdown",
   "id": "d3490002-4604-4975-a89d-e25f6059e5ea",
   "metadata": {},
   "source": [
    "## Province Level"
   ]
  },
  {
   "cell_type": "code",
   "execution_count": 10,
   "id": "2a91cb86-40bf-4614-a4f1-f8f2dcc83fb9",
   "metadata": {},
   "outputs": [
    {
     "data": {
      "text/html": [
       "\n",
       "            <style>\n",
       "                .geemap-dark {\n",
       "                    --jp-widgets-color: white;\n",
       "                    --jp-widgets-label-color: white;\n",
       "                    --jp-ui-font-color1: white;\n",
       "                    --jp-layout-color2: #454545;\n",
       "                    background-color: #383838;\n",
       "                }\n",
       "\n",
       "                .geemap-dark .jupyter-button {\n",
       "                    --jp-layout-color3: #383838;\n",
       "                }\n",
       "\n",
       "                .geemap-colab {\n",
       "                    background-color: var(--colab-primary-surface-color, white);\n",
       "                }\n",
       "\n",
       "                .geemap-colab .jupyter-button {\n",
       "                    --jp-layout-color3: var(--colab-primary-surface-color, white);\n",
       "                }\n",
       "            </style>\n",
       "            "
      ],
      "text/plain": [
       "<IPython.core.display.HTML object>"
      ]
     },
     "metadata": {},
     "output_type": "display_data"
    }
   ],
   "source": [
    "import pandas as pd\n",
    "\n",
    "# load Hansen dataset\n",
    "dataset = ee.Image('UMD/hansen/global_forest_change_2023_v1_11')\n",
    "\n",
    "# bands\n",
    "tree_cover = dataset.select('treecover2000')\n",
    "loss_year = dataset.select('lossyear')\n",
    "\n",
    "# define forest threshold\n",
    "forest_2000 = tree_cover.gte(30)\n",
    "\n",
    "# load Zambia province boundaries\n",
    "# level 0: country level\n",
    "# level 1: province level\n",
    "provinces = ee.FeatureCollection('FAO/GAUL/2015/level1') \\\n",
    "    .filter(ee.Filter.eq('ADM0_NAME', 'Zambia'))\n",
    "\n",
    "# create empty list to store data\n",
    "results = []\n",
    "\n",
    "for year in range(2001, 2023):\n",
    "    year_offset = year - 2000\n",
    "    loss_in_year = loss_year.eq(year_offset)\n",
    "    # mask to forested pixels in loss year\n",
    "    loss_year_forest = loss_in_year.And(forest_2000)\n",
    "    # convert to area (square meters)\n",
    "    loss_area = loss_year_forest.multiply(ee.Image.pixelArea())\n",
    "    # get total loss area for each province\n",
    "    def compute_loss(feature):\n",
    "        # province names\n",
    "        name = feature.get('ADM1_NAME')\n",
    "        stats = loss_area.reduceRegion(\n",
    "            reducer = ee.Reducer.sum(),\n",
    "            geometry = feature.geometry(),\n",
    "            scale = 30,\n",
    "            maxPixels = 1e13\n",
    "        )\n",
    "       \n",
    "        area_m2 = stats.get('lossyear')\n",
    "        return feature.set({\n",
    "            'province': name, \n",
    "            'year': year,\n",
    "            'loss_m2': area_m2\n",
    "        })\n",
    "        \n",
    "    yearly_results = provinces.map(compute_loss).getInfo()\n",
    "\n",
    "    # extract data to Python\n",
    "    for feat in yearly_results['features']:\n",
    "        properties = feat['properties']\n",
    "        area_m2 = properties['loss_m2'] or 0\n",
    "        # convert to hectares\n",
    "        area_ha = area_m2 / 10000\n",
    "        results.append({\n",
    "            'province': properties['province'],\n",
    "            'year': properties['year'],\n",
    "            'loss_ha': area_ha\n",
    "        })\n",
    "\n",
    "# convert to pandas dataframe\n",
    "df = pd.DataFrame(results)\n",
    "\n",
    "# save as csv\n",
    "df.to_csv('province_lcluc.csv', index=False)     "
   ]
  },
  {
   "cell_type": "markdown",
   "id": "17eeb69e-099c-4549-b15e-a6fe9d58a24c",
   "metadata": {},
   "source": [
    "## District Level"
   ]
  },
  {
   "cell_type": "code",
   "execution_count": 11,
   "id": "c8d9aed6-ca48-42a7-8779-14f521ee1c40",
   "metadata": {},
   "outputs": [
    {
     "data": {
      "text/html": [
       "\n",
       "            <style>\n",
       "                .geemap-dark {\n",
       "                    --jp-widgets-color: white;\n",
       "                    --jp-widgets-label-color: white;\n",
       "                    --jp-ui-font-color1: white;\n",
       "                    --jp-layout-color2: #454545;\n",
       "                    background-color: #383838;\n",
       "                }\n",
       "\n",
       "                .geemap-dark .jupyter-button {\n",
       "                    --jp-layout-color3: #383838;\n",
       "                }\n",
       "\n",
       "                .geemap-colab {\n",
       "                    background-color: var(--colab-primary-surface-color, white);\n",
       "                }\n",
       "\n",
       "                .geemap-colab .jupyter-button {\n",
       "                    --jp-layout-color3: var(--colab-primary-surface-color, white);\n",
       "                }\n",
       "            </style>\n",
       "            "
      ],
      "text/plain": [
       "<IPython.core.display.HTML object>"
      ]
     },
     "metadata": {},
     "output_type": "display_data"
    },
    {
     "name": "stdout",
     "output_type": "stream",
     "text": [
      "        district  year      loss_ha\n",
      "1579     Zambezi  2022  3904.320786\n",
      "1580      Kalabo  2022    54.157198\n",
      "1581      Lukulu  2022  2196.119963\n",
      "1582     Senanga  2022   116.785268\n",
      "1583  Shang'ombo  2022   216.436116\n"
     ]
    }
   ],
   "source": [
    "# level 2: district level\n",
    "districts = ee.FeatureCollection('FAO/GAUL/2015/level2') \\\n",
    "    .filter(ee.Filter.eq('ADM0_NAME', 'Zambia'))\n",
    "\n",
    "# create empty list to store data\n",
    "results = []\n",
    "\n",
    "for year in range(2001, 2023):\n",
    "    year_offset = year - 2000\n",
    "    loss_in_year = loss_year.eq(year_offset)\n",
    "    # mask to forested pixels in loss year\n",
    "    loss_year_forest = loss_in_year.And(forest_2000)\n",
    "    # convert to area (square meters)\n",
    "    loss_area = loss_year_forest.multiply(ee.Image.pixelArea())\n",
    "    # get total loss area for each province\n",
    "    def compute_loss(feature):\n",
    "        # district names\n",
    "        name = feature.get('ADM2_NAME')\n",
    "        stats = loss_area.reduceRegion(\n",
    "            reducer = ee.Reducer.sum(),\n",
    "            geometry = feature.geometry(),\n",
    "            scale = 30,\n",
    "            maxPixels = 1e13\n",
    "        )\n",
    "       \n",
    "        area_m2 = stats.get('lossyear')\n",
    "        return feature.set({\n",
    "            'district': name, \n",
    "            'year': year,\n",
    "            'loss_m2': area_m2\n",
    "        })\n",
    "        \n",
    "    yearly_results = districts.map(compute_loss).getInfo()\n",
    "\n",
    "    # extract data to Python\n",
    "    for feat in yearly_results['features']:\n",
    "        properties = feat['properties']\n",
    "        area_m2 = properties['loss_m2'] or 0\n",
    "        # convert to hectares\n",
    "        area_ha = area_m2 / 10000\n",
    "        results.append({\n",
    "            'district': properties['district'],\n",
    "            'year': properties['year'],\n",
    "            'loss_ha': area_ha\n",
    "        })\n",
    "\n",
    "# convert to pandas dataframe\n",
    "df = pd.DataFrame(results)\n",
    "\n",
    "# save as csv\n",
    "df.to_csv('district_lcluc.csv', index=False)\n",
    "\n",
    "print(df.tail())"
   ]
  },
  {
   "cell_type": "markdown",
   "id": "1f2e4567-5e8d-43ed-b7a2-ec06184210f7",
   "metadata": {},
   "source": [
    "## Code graveyard "
   ]
  },
  {
   "cell_type": "code",
   "execution_count": null,
   "id": "f2e5b049-284c-481f-b3ee-bf63a1d2259a",
   "metadata": {},
   "outputs": [],
   "source": [
    "#year = 2018\n",
    "\n",
    "#loss_in_year = loss_year.eq(year - 2000)\n",
    "\n",
    "# mask to forested pixels in loss year\n",
    "#loss_year_forest = loss_in_year.And(forest_2000)\n",
    "\n",
    "# convert to area (square meters)\n",
    "#loss_area = loss_year_forest.multiply(ee.Image.pixelArea())\n",
    "\n",
    "# load Zambia boundary\n",
    "#zambia = ee.FeatureCollection('FAO/GAUL/2015/level0') \\\n",
    "            #.filter(ee.Filter.eq('ADM0_NAME', 'Zambia'))\n",
    "\n",
    "# get total loss area\n",
    "#stats = loss_area.reduceRegion(\n",
    " #   reducer = ee.Reducer.sum(),\n",
    "  #  geometry = zambia,\n",
    "   # scale = 30,\n",
    "    #maxPixels = 1e13\n",
    "#)\n",
    "\n",
    "# get result in hectares\n",
    "#area_m2 = stats.getInfo().get('lossyear', 0)\n",
    "#area_ha = area_m2 / 10000\n",
    "\n",
    "#print(f\"Forest loss in {year}: {area_ha:.2f} hectares\")"
   ]
  },
  {
   "cell_type": "code",
   "execution_count": null,
   "id": "ed59cad7-f96a-4ca3-a8f3-4b5c92e4e1b8",
   "metadata": {},
   "outputs": [],
   "source": [
    "# create interactive map\n",
    "Map = geemap.Map(center=[-13.1, 27.8], zoom=6)\n",
    "    \n",
    "\n",
    "# clip dataset to Zambia\n",
    "#clipped_dataset = dataset.clip(zambia)\n",
    "\n",
    "# visualization parameters\n",
    "tree_cover_vis = {\n",
    "    'bands': ['treecover2000'],\n",
    "    'min': 0,\n",
    "    'max': 100,\n",
    "    'palette': ['black', 'green']\n",
    "}\n",
    "\n",
    "loss_vis = {\n",
    "    'min': 0,\n",
    "    'max': 23,\n",
    "    'palette': ['yellow', 'red']\n",
    "}\n",
    "\n",
    "# add base tree cover layer\n",
    "Map.addLayer(clipped_dataset.select('treecover2000'), tree_cover_vis, 'Tree Cover 2000')\n",
    "\n",
    "# loop through 'test years'\n",
    "for year in range(2001, 2021, 5):\n",
    "    code = year - 2000\n",
    "    annual_loss = clipped_dataset.select('lossyear') \\\n",
    "                        .eq(code) \\\n",
    "                        .selfMask()\n",
    "    Map.addLayer(annual_loss, {'palette': ['red']}, f'Tree Loss {year}')\n",
    "\n",
    "Map"
   ]
  }
 ],
 "metadata": {
  "kernelspec": {
   "display_name": "Python 3 (ipykernel)",
   "language": "python",
   "name": "python3"
  },
  "language_info": {
   "codemirror_mode": {
    "name": "ipython",
    "version": 3
   },
   "file_extension": ".py",
   "mimetype": "text/x-python",
   "name": "python",
   "nbconvert_exporter": "python",
   "pygments_lexer": "ipython3",
   "version": "3.9.15"
  }
 },
 "nbformat": 4,
 "nbformat_minor": 5
}
