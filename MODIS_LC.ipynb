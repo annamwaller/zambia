{
 "cells": [
  {
   "cell_type": "code",
   "execution_count": 2,
   "id": "eac6ce3e-cbed-4cd2-a6d8-294e1b0e6b05",
   "metadata": {},
   "outputs": [
    {
     "data": {
      "text/html": [
       "\n",
       "            <style>\n",
       "                .geemap-dark {\n",
       "                    --jp-widgets-color: white;\n",
       "                    --jp-widgets-label-color: white;\n",
       "                    --jp-ui-font-color1: white;\n",
       "                    --jp-layout-color2: #454545;\n",
       "                    background-color: #383838;\n",
       "                }\n",
       "\n",
       "                .geemap-dark .jupyter-button {\n",
       "                    --jp-layout-color3: #383838;\n",
       "                }\n",
       "\n",
       "                .geemap-colab {\n",
       "                    background-color: var(--colab-primary-surface-color, white);\n",
       "                }\n",
       "\n",
       "                .geemap-colab .jupyter-button {\n",
       "                    --jp-layout-color3: var(--colab-primary-surface-color, white);\n",
       "                }\n",
       "            </style>\n",
       "            "
      ],
      "text/plain": [
       "<IPython.core.display.HTML object>"
      ]
     },
     "metadata": {},
     "output_type": "display_data"
    }
   ],
   "source": [
    "import ee\n",
    "ee.Initialize()"
   ]
  },
  {
   "cell_type": "code",
   "execution_count": 3,
   "id": "7cc916c5-0742-43ad-978d-7a4deca4b217",
   "metadata": {},
   "outputs": [
    {
     "data": {
      "text/html": [
       "\n",
       "            <style>\n",
       "                .geemap-dark {\n",
       "                    --jp-widgets-color: white;\n",
       "                    --jp-widgets-label-color: white;\n",
       "                    --jp-ui-font-color1: white;\n",
       "                    --jp-layout-color2: #454545;\n",
       "                    background-color: #383838;\n",
       "                }\n",
       "\n",
       "                .geemap-dark .jupyter-button {\n",
       "                    --jp-layout-color3: #383838;\n",
       "                }\n",
       "\n",
       "                .geemap-colab {\n",
       "                    background-color: var(--colab-primary-surface-color, white);\n",
       "                }\n",
       "\n",
       "                .geemap-colab .jupyter-button {\n",
       "                    --jp-layout-color3: var(--colab-primary-surface-color, white);\n",
       "                }\n",
       "            </style>\n",
       "            "
      ],
      "text/plain": [
       "<IPython.core.display.HTML object>"
      ]
     },
     "metadata": {},
     "output_type": "display_data"
    }
   ],
   "source": [
    "dataset = ee.ImageCollection('MODIS/061/MCD12Q1')\n",
    "igbp_landcover = dataset.select('LC_Type1')"
   ]
  },
  {
   "cell_type": "code",
   "execution_count": 4,
   "id": "ba020f37-fea5-4b02-84de-ed21a5cbf4b1",
   "metadata": {},
   "outputs": [
    {
     "data": {
      "text/html": [
       "\n",
       "            <style>\n",
       "                .geemap-dark {\n",
       "                    --jp-widgets-color: white;\n",
       "                    --jp-widgets-label-color: white;\n",
       "                    --jp-ui-font-color1: white;\n",
       "                    --jp-layout-color2: #454545;\n",
       "                    background-color: #383838;\n",
       "                }\n",
       "\n",
       "                .geemap-dark .jupyter-button {\n",
       "                    --jp-layout-color3: #383838;\n",
       "                }\n",
       "\n",
       "                .geemap-colab {\n",
       "                    background-color: var(--colab-primary-surface-color, white);\n",
       "                }\n",
       "\n",
       "                .geemap-colab .jupyter-button {\n",
       "                    --jp-layout-color3: var(--colab-primary-surface-color, white);\n",
       "                }\n",
       "            </style>\n",
       "            "
      ],
      "text/plain": [
       "<IPython.core.display.HTML object>"
      ]
     },
     "metadata": {},
     "output_type": "display_data"
    }
   ],
   "source": [
    "# set visibility parameters\n",
    "igbp_landcover_vis = {\n",
    "    'min': 1.0,\n",
    "    'max': 17.0, \n",
    "    'palette': [\n",
    "    '05450a', '086a10', '54a708', '78d203', '009900', 'c6b044', 'dcd159',\n",
    "    'dade48', 'fbff13', 'b6ff05', '27ff87', 'c24f44', 'a5a5a5', 'ff6d4c',\n",
    "    '69fff8', 'f9ffa4', '1c0dff'\n",
    "    ]\n",
    "}\n",
    "\n",
    "# load Zambia boundary\n",
    "zambia = ee.FeatureCollection('FAO/GAUL/2015/level0') \\\n",
    "            .filter(ee.Filter.eq('ADM0_NAME', 'Zambia'))\n",
    "\n",
    "# clip to Zambia \n",
    "lc_zambia = igbp_landcover.map(lambda image: image.clip(zambia))"
   ]
  },
  {
   "cell_type": "code",
   "execution_count": 5,
   "id": "5e4c6b41-b491-4a6e-ac83-9dd34c24b016",
   "metadata": {},
   "outputs": [
    {
     "data": {
      "text/html": [
       "\n",
       "            <style>\n",
       "                .geemap-dark {\n",
       "                    --jp-widgets-color: white;\n",
       "                    --jp-widgets-label-color: white;\n",
       "                    --jp-ui-font-color1: white;\n",
       "                    --jp-layout-color2: #454545;\n",
       "                    background-color: #383838;\n",
       "                }\n",
       "\n",
       "                .geemap-dark .jupyter-button {\n",
       "                    --jp-layout-color3: #383838;\n",
       "                }\n",
       "\n",
       "                .geemap-colab {\n",
       "                    background-color: var(--colab-primary-surface-color, white);\n",
       "                }\n",
       "\n",
       "                .geemap-colab .jupyter-button {\n",
       "                    --jp-layout-color3: var(--colab-primary-surface-color, white);\n",
       "                }\n",
       "            </style>\n",
       "            "
      ],
      "text/plain": [
       "<IPython.core.display.HTML object>"
      ]
     },
     "metadata": {},
     "output_type": "display_data"
    }
   ],
   "source": [
    "# define function to add layer for specific year\n",
    "def add_layer(year):\n",
    "    image_collection = ee.ImageCollection('MODIS/061/MCD12Q1') \\\n",
    "    .filter(ee.Filter.calendarRange(year, year, 'year')) \\\n",
    "    .select('LC_Type1')\n",
    "\n",
    "    image = image_collection.first()\n",
    "    clipped_image = image.clip(zambia)\n",
    "\n",
    "    return(clipped_image)"
   ]
  },
  {
   "cell_type": "code",
   "execution_count": 6,
   "id": "626d39fc-9c5a-4f56-a680-3149fd832df7",
   "metadata": {},
   "outputs": [
    {
     "data": {
      "text/html": [
       "\n",
       "            <style>\n",
       "                .geemap-dark {\n",
       "                    --jp-widgets-color: white;\n",
       "                    --jp-widgets-label-color: white;\n",
       "                    --jp-ui-font-color1: white;\n",
       "                    --jp-layout-color2: #454545;\n",
       "                    background-color: #383838;\n",
       "                }\n",
       "\n",
       "                .geemap-dark .jupyter-button {\n",
       "                    --jp-layout-color3: #383838;\n",
       "                }\n",
       "\n",
       "                .geemap-colab {\n",
       "                    background-color: var(--colab-primary-surface-color, white);\n",
       "                }\n",
       "\n",
       "                .geemap-colab .jupyter-button {\n",
       "                    --jp-layout-color3: var(--colab-primary-surface-color, white);\n",
       "                }\n",
       "            </style>\n",
       "            "
      ],
      "text/plain": [
       "<IPython.core.display.HTML object>"
      ]
     },
     "metadata": {},
     "output_type": "display_data"
    },
    {
     "data": {
      "application/vnd.jupyter.widget-view+json": {
       "model_id": "8777c31f469a47449a02fa6db72ea0e9",
       "version_major": 2,
       "version_minor": 0
      },
      "text/plain": [
       "Map(center=[-13, 27], controls=(WidgetControl(options=['position', 'transparent_bg'], widget=SearchDataGUI(chi…"
      ]
     },
     "execution_count": 6,
     "metadata": {},
     "output_type": "execute_result"
    }
   ],
   "source": [
    "import geemap\n",
    "\n",
    "# loop over years\n",
    "years = list(range(2001, 2021))\n",
    "\n",
    "# display geemap\n",
    "Map = geemap.Map(center=[-13, 27], zoom=6)\n",
    "\n",
    "# add layer for each year\n",
    "for year in years:\n",
    "    image = add_layer(year)\n",
    "    Map.addLayer(image, igbp_landcover_vis, f'Land Cover {year}')\n",
    "\n",
    "Map"
   ]
  },
  {
   "cell_type": "markdown",
   "id": "10cbe5e9-92b3-4775-bf7b-9b128e7bc11a",
   "metadata": {},
   "source": [
    "## District level"
   ]
  },
  {
   "cell_type": "code",
   "execution_count": 19,
   "id": "b9425b3a-837b-4539-8af4-1bc2d165c4c3",
   "metadata": {},
   "outputs": [
    {
     "data": {
      "text/html": [
       "\n",
       "            <style>\n",
       "                .geemap-dark {\n",
       "                    --jp-widgets-color: white;\n",
       "                    --jp-widgets-label-color: white;\n",
       "                    --jp-ui-font-color1: white;\n",
       "                    --jp-layout-color2: #454545;\n",
       "                    background-color: #383838;\n",
       "                }\n",
       "\n",
       "                .geemap-dark .jupyter-button {\n",
       "                    --jp-layout-color3: #383838;\n",
       "                }\n",
       "\n",
       "                .geemap-colab {\n",
       "                    background-color: var(--colab-primary-surface-color, white);\n",
       "                }\n",
       "\n",
       "                .geemap-colab .jupyter-button {\n",
       "                    --jp-layout-color3: var(--colab-primary-surface-color, white);\n",
       "                }\n",
       "            </style>\n",
       "            "
      ],
      "text/plain": [
       "<IPython.core.display.HTML object>"
      ]
     },
     "metadata": {},
     "output_type": "display_data"
    }
   ],
   "source": [
    "# load districts\n",
    "districts = ee.FeatureCollection('FAO/GAUL/2015/level2') \\\n",
    "    .filter(ee.Filter.eq('ADM0_NAME', 'Zambia'))\n",
    "\n",
    "# calculate area in hectares\n",
    "districts = districts.map(lambda feature: feature.set('area_ha', feature.geometry().area().divide(1e4)))\n",
    "\n",
    "# filter to exclude tiny districts\n",
    "filtered_districts = districts.filter(ee.Filter.gte('area_ha', 5000))"
   ]
  },
  {
   "cell_type": "code",
   "execution_count": 20,
   "id": "0d94bba4-6920-4e51-b861-eced043bb516",
   "metadata": {},
   "outputs": [
    {
     "data": {
      "text/html": [
       "\n",
       "            <style>\n",
       "                .geemap-dark {\n",
       "                    --jp-widgets-color: white;\n",
       "                    --jp-widgets-label-color: white;\n",
       "                    --jp-ui-font-color1: white;\n",
       "                    --jp-layout-color2: #454545;\n",
       "                    background-color: #383838;\n",
       "                }\n",
       "\n",
       "                .geemap-dark .jupyter-button {\n",
       "                    --jp-layout-color3: #383838;\n",
       "                }\n",
       "\n",
       "                .geemap-colab {\n",
       "                    background-color: var(--colab-primary-surface-color, white);\n",
       "                }\n",
       "\n",
       "                .geemap-colab .jupyter-button {\n",
       "                    --jp-layout-color3: var(--colab-primary-surface-color, white);\n",
       "                }\n",
       "            </style>\n",
       "            "
      ],
      "text/plain": [
       "<IPython.core.display.HTML object>"
      ]
     },
     "metadata": {},
     "output_type": "display_data"
    }
   ],
   "source": [
    "years = list(range(2001, 2021))\n",
    "\n",
    "# create empty list to store results\n",
    "results = []\n",
    "\n",
    "# loop over years\n",
    "for year in years:\n",
    "    image = ee.ImageCollection('MODIS/061/MCD12Q1') \\\n",
    "    .filter(ee.Filter.calendarRange(year, year, 'year')) \\\n",
    "    .select('LC_Type1') \\\n",
    "    .first()\n",
    "\n",
    "    # loop over provinces\n",
    "    def compute_area(district):\n",
    "        district_name = district.get('ADM2_NAME')\n",
    "        # clip land cover to district\n",
    "        lc_clip = image.clip(district.geometry())\n",
    "        # calculate area per class\n",
    "        area_image = ee.Image.pixelArea().addBands(lc_clip)\n",
    "        # grouped reduction\n",
    "        reducer = ee.Reducer.sum().group(\n",
    "            groupField = 1,\n",
    "            groupName = 'landcover_class'\n",
    "        )\n",
    "        stats = area_image.reduceRegion(\n",
    "            reducer = reducer,\n",
    "            geometry = district.geometry(),\n",
    "            scale = 500,\n",
    "            maxPixels = 1e13\n",
    "        )\n",
    "        groups = ee.List(stats.get('groups'))\n",
    "\n",
    "        def format_result(group):\n",
    "            class_number = ee.Number(ee.Dictionary(group).get('landcover_class'))\n",
    "            area = ee.Number(ee.Dictionary(group).get('sum'))\n",
    "            return ee.Feature(None, {\n",
    "                'year': year,\n",
    "                'district': district_name,\n",
    "                'landcover_class': class_number,\n",
    "                'area_m2': area\n",
    "            })\n",
    "\n",
    "        formatted = groups.map(format_result)\n",
    "        return ee.FeatureCollection(formatted)\n",
    "\n",
    "    district_results = filtered_districts.map(compute_area).flatten()\n",
    "    results.append(district_results)\n",
    "\n",
    "# merge results\n",
    "final_result = ee.FeatureCollection(results).flatten()\n"
   ]
  },
  {
   "cell_type": "code",
   "execution_count": 21,
   "id": "da89518b-08e1-4f83-8470-5b340b159477",
   "metadata": {},
   "outputs": [
    {
     "data": {
      "text/html": [
       "\n",
       "            <style>\n",
       "                .geemap-dark {\n",
       "                    --jp-widgets-color: white;\n",
       "                    --jp-widgets-label-color: white;\n",
       "                    --jp-ui-font-color1: white;\n",
       "                    --jp-layout-color2: #454545;\n",
       "                    background-color: #383838;\n",
       "                }\n",
       "\n",
       "                .geemap-dark .jupyter-button {\n",
       "                    --jp-layout-color3: #383838;\n",
       "                }\n",
       "\n",
       "                .geemap-colab {\n",
       "                    background-color: var(--colab-primary-surface-color, white);\n",
       "                }\n",
       "\n",
       "                .geemap-colab .jupyter-button {\n",
       "                    --jp-layout-color3: var(--colab-primary-surface-color, white);\n",
       "                }\n",
       "            </style>\n",
       "            "
      ],
      "text/plain": [
       "<IPython.core.display.HTML object>"
      ]
     },
     "metadata": {},
     "output_type": "display_data"
    }
   ],
   "source": [
    "# export to CSV\n",
    "task = ee.batch.Export.table.toDrive(\n",
    "    collection = final_result,\n",
    "    description = 'Zambia_LandCover_District',\n",
    "    fileFormat = 'CSV'\n",
    ")\n",
    "\n",
    "task.start()"
   ]
  },
  {
   "cell_type": "code",
   "execution_count": 15,
   "id": "47dc53a7-54ff-491a-9303-192a904efa08",
   "metadata": {},
   "outputs": [
    {
     "data": {
      "text/html": [
       "\n",
       "            <style>\n",
       "                .geemap-dark {\n",
       "                    --jp-widgets-color: white;\n",
       "                    --jp-widgets-label-color: white;\n",
       "                    --jp-ui-font-color1: white;\n",
       "                    --jp-layout-color2: #454545;\n",
       "                    background-color: #383838;\n",
       "                }\n",
       "\n",
       "                .geemap-dark .jupyter-button {\n",
       "                    --jp-layout-color3: #383838;\n",
       "                }\n",
       "\n",
       "                .geemap-colab {\n",
       "                    background-color: var(--colab-primary-surface-color, white);\n",
       "                }\n",
       "\n",
       "                .geemap-colab .jupyter-button {\n",
       "                    --jp-layout-color3: var(--colab-primary-surface-color, white);\n",
       "                }\n",
       "            </style>\n",
       "            "
      ],
      "text/plain": [
       "<IPython.core.display.HTML object>"
      ]
     },
     "metadata": {},
     "output_type": "display_data"
    },
    {
     "name": "stdout",
     "output_type": "stream",
     "text": [
      "{'state': 'RUNNING', 'description': 'Zambia_LandCover_Province', 'priority': 100, 'creation_timestamp_ms': 1745621075163, 'update_timestamp_ms': 1745621118611, 'start_timestamp_ms': 1745621078509, 'task_type': 'EXPORT_FEATURES', 'attempt': 1, 'batch_eecu_usage_seconds': 39.296348571, 'id': '3OY326FZJGKJIWQRLVZV6UUL', 'name': 'projects/earthengine-legacy/operations/3OY326FZJGKJIWQRLVZV6UUL'}\n"
     ]
    }
   ],
   "source": [
    "print(task.status())"
   ]
  }
 ],
 "metadata": {
  "kernelspec": {
   "display_name": "Python 3 (ipykernel)",
   "language": "python",
   "name": "python3"
  },
  "language_info": {
   "codemirror_mode": {
    "name": "ipython",
    "version": 3
   },
   "file_extension": ".py",
   "mimetype": "text/x-python",
   "name": "python",
   "nbconvert_exporter": "python",
   "pygments_lexer": "ipython3",
   "version": "3.9.15"
  }
 },
 "nbformat": 4,
 "nbformat_minor": 5
}
